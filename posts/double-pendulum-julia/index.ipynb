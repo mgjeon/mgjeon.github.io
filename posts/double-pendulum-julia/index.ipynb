{
 "cells": [
  {
   "cell_type": "raw",
   "metadata": {},
   "source": [
    "---\n",
    "title: \"The double pendulum problem in Julia\"\n",
    "author: \"Mingyu Jeon\"\n",
    "date: \"2024-8-29\"\n",
    "categories: [physics, julia, english]\n",
    "---"
   ]
  },
  {
   "cell_type": "markdown",
   "metadata": {},
   "source": [
    "## The double pendulum problem\n",
    "\n",
    "This post is based on [an example of Plots.jl](https://docs.juliaplots.org/latest/user_gallery/misc/double_pendulum/#Double-Pendulum-Problem)."
   ]
  },
  {
   "cell_type": "markdown",
   "metadata": {},
   "source": [
    "## Code"
   ]
  },
  {
   "cell_type": "code",
   "execution_count": null,
   "metadata": {},
   "outputs": [],
   "source": [
    "using OrdinaryDiffEq, Plots; gr()\n",
    "using Printf"
   ]
  },
  {
   "cell_type": "code",
   "execution_count": null,
   "metadata": {},
   "outputs": [
    {
     "data": {
      "text/plain": [
       "pendulum! (generic function with 1 method)"
      ]
     },
     "metadata": {},
     "output_type": "display_data"
    }
   ],
   "source": [
    "function pendulum!(du, u, p, t)\n",
    "    # u[1] = theta1\n",
    "    # u[2] = omega1\n",
    "    # u[3] = theta2\n",
    "    # u[4] = omega2\n",
    "    \n",
    "    (; M1, M2, L1, L2, G) = p\n",
    "\n",
    "    du[1] = u[2]\n",
    "\n",
    "    delta = u[3] - u[1]\n",
    "    den1 = (M1 + M2) * L1 - M2 * L1 * cos(delta) * cos(delta)\n",
    "    du[2] = (\n",
    "        (\n",
    "            M2 * L1 * u[2] * u[2] * sin(delta) * cos(delta) +\n",
    "            M2 * G * sin(u[3]) * cos(delta) +\n",
    "            M2 * L2 * u[4] * u[4] * sin(delta) - (M1 + M2) * G * sin(u[1])\n",
    "        ) / den1\n",
    "    )\n",
    "\n",
    "    du[3] = u[4]\n",
    "\n",
    "    den2 = (L2 / L1) * den1\n",
    "    du[4] = (\n",
    "        (\n",
    "            -M2 * L2 * u[4] * u[4] * sin(delta) * cos(delta) +\n",
    "            (M1 + M2) * G * sin(u[1]) * cos(delta) -\n",
    "            (M1 + M2) * L1 * u[2] * u[2] * sin(delta) - (M1 + M2) * G * sin(u[3])\n",
    "        ) / den2\n",
    "    )\n",
    "    nothing\n",
    "end"
   ]
  },
  {
   "cell_type": "code",
   "execution_count": null,
   "metadata": {},
   "outputs": [
    {
     "data": {
      "text/plain": [
       "5.0"
      ]
     },
     "metadata": {},
     "output_type": "display_data"
    }
   ],
   "source": [
    "G = 9.8       # acceleration due to gravity, in m/s^2\n",
    "L1 = 1.0      # length of pendulum 1 in m\n",
    "L2 = 1.0      # length of pendulum 2 in m\n",
    "L = L1 + L2   # maximal length of the combined pendulum\n",
    "M1 = 1.0      # mass of pendulum 1 in kg\n",
    "M2 = 1.0      # mass of pendulum 2 in kg\n",
    "t_stop = 5.0  # how many seconds to simulate"
   ]
  },
  {
   "cell_type": "code",
   "execution_count": null,
   "metadata": {},
   "outputs": [
    {
     "data": {
      "text/plain": [
       "0.0"
      ]
     },
     "metadata": {},
     "output_type": "display_data"
    }
   ],
   "source": [
    "# th1 and th2 are the initial angles (degrees)\n",
    "# w10 and w20 are the initial angular velocities (degrees per second)\n",
    "th1 = 120.0\n",
    "w1 = 0.0\n",
    "th2 = -10.0\n",
    "w2 = 0.0"
   ]
  },
  {
   "cell_type": "code",
   "execution_count": null,
   "metadata": {},
   "outputs": [
    {
     "data": {
      "text/plain": [
       "4-element Vector{Float64}:\n",
       "  2.0943951023931953\n",
       "  0.0\n",
       " -0.17453292519943295\n",
       "  0.0"
      ]
     },
     "metadata": {},
     "output_type": "display_data"
    }
   ],
   "source": [
    "u0 = deg2rad.([th1, w1, th2, w2])"
   ]
  },
  {
   "cell_type": "code",
   "execution_count": null,
   "metadata": {},
   "outputs": [
    {
     "data": {
      "text/plain": [
       "(M1 = 1.0, M2 = 1.0, L1 = 1.0, L2 = 1.0, G = 9.8)"
      ]
     },
     "metadata": {},
     "output_type": "display_data"
    }
   ],
   "source": [
    "p = (; M1, M2, L1, L2, G)"
   ]
  },
  {
   "cell_type": "code",
   "execution_count": null,
   "metadata": {},
   "outputs": [
    {
     "data": {
      "text/plain": [
       "(0.0, 5.0)"
      ]
     },
     "metadata": {},
     "output_type": "display_data"
    }
   ],
   "source": [
    "tspan = (0.0, t_stop)"
   ]
  },
  {
   "cell_type": "code",
   "execution_count": null,
   "metadata": {},
   "outputs": [
    {
     "data": {
      "text/plain": [
       "\u001b[38;2;86;182;194mODEProblem\u001b[0m with uType \u001b[38;2;86;182;194mVector{Float64}\u001b[0m and tType \u001b[38;2;86;182;194mFloat64\u001b[0m. In-place: \u001b[38;2;86;182;194mtrue\u001b[0m\n",
       "timespan: (0.0, 5.0)\n",
       "u0: 4-element Vector{Float64}:\n",
       "  2.0943951023931953\n",
       "  0.0\n",
       " -0.17453292519943295\n",
       "  0.0"
      ]
     },
     "metadata": {},
     "output_type": "display_data"
    }
   ],
   "source": [
    "prob = ODEProblem(pendulum!, u0, tspan, p)"
   ]
  },
  {
   "cell_type": "code",
   "execution_count": null,
   "metadata": {},
   "outputs": [
    {
     "name": "stdout",
     "output_type": "stream",
     "text": [
      "  4.976490 seconds (20.07 M allocations: 1.311 GiB, 6.19% gc time, 99.99% compilation time)\n"
     ]
    }
   ],
   "source": [
    "@time solve(prob, dense=true, alg=Vern7(), reltol=1e-10, abstol=1e-10);"
   ]
  },
  {
   "cell_type": "code",
   "execution_count": null,
   "metadata": {},
   "outputs": [
    {
     "name": "stdout",
     "output_type": "stream",
     "text": [
      "  0.000434 seconds (3.97 k allocations: 404.250 KiB)\n"
     ]
    },
    {
     "data": {
      "text/plain": [
       "retcode: Success\n",
       "Interpolation: specialized 7th order lazy interpolation\n",
       "t: 327-element Vector{Float64}:\n",
       " 0.0\n",
       " 0.015120200135242772\n",
       " 0.03461247124860289\n",
       " 0.05621034906611724\n",
       " 0.08063338298221337\n",
       " 0.10655860257718384\n",
       " 0.13371069061057467\n",
       " 0.16136170833943062\n",
       " 0.18910379555029622\n",
       " 0.216500191087515\n",
       " ⋮\n",
       " 4.877658909987774\n",
       " 4.891048061088556\n",
       " 4.906726954985946\n",
       " 4.92395952857032\n",
       " 4.940477265391924\n",
       " 4.9570673499295275\n",
       " 4.973347466199946\n",
       " 4.989481530533818\n",
       " 5.0\n",
       "u: 327-element Vector{Vector{Float64}}:\n",
       " [2.0943951023931953, 0.0, -0.17453292519943295, 0.0]\n",
       " [2.093251192266732, -0.15130144360225076, -0.17507316706106824, -0.07138583688240614]\n",
       " [2.0884020066846594, -0.34620684293642423, -0.17735151407883185, -0.16197940762950855]\n",
       " [2.0785960375730372, -0.5617458491336331, -0.18190022469696743, -0.2583291215327368]\n",
       " [2.0619088616767502, -0.8045658145300556, -0.18945998215379264, -0.35897310430460627]\n",
       " [2.0377259296673795, -1.0606883684801727, -0.20000780534447987, -0.45198941094552436]\n",
       " [2.0053127296813607, -1.3263167089129453, -0.21337992707010664, -0.5290751421284102]\n",
       " [1.9649409859714275, -1.5930439677685073, -0.22879032047995732, -0.5805198650083305]\n",
       " [1.9170909858635226, -1.8556580077531657, -0.24523226705660403, -0.5987532995918393]\n",
       " [1.8627674994092769, -2.109011300081415, -0.2614479063701741, -0.5781647279534727]\n",
       " ⋮\n",
       " [0.08055304727076054, -4.844672221947719, 7.323641407873413, -0.3937092424276102]\n",
       " [0.016456248134838113, -4.729974482015508, 7.315465794703606, -0.8259494949202341]\n",
       " [-0.056649840079156244, -4.5949029003734845, 7.298626670050392, -1.3197608125366442]\n",
       " [-0.13450819146501108, -4.439547315775765, 7.271324047281913, -1.8459341422625748]\n",
       " [-0.20652600642233343, -4.277983589438366, 7.236791129717663, -2.3322767387862955]\n",
       " [-0.27603285796575844, -4.097988312352799, 7.194181777987756, -2.800971206639784]\n",
       " [-0.3411670498167553, -3.899839597788059, 7.144980717318993, -3.2396924617007903]\n",
       " [-0.40234149964195665, -3.6791729003067517, 7.08935288274075, -3.652222880783009]\n",
       " [-0.44021974519477647, -3.5211389770525976, 7.049578950062814, -3.9088281792608424]"
      ]
     },
     "metadata": {},
     "output_type": "display_data"
    }
   ],
   "source": [
    "@time sol = solve(prob, dense=true, \n",
    "    alg=Vern7(), reltol=1e-10, abstol=1e-10)"
   ]
  },
  {
   "cell_type": "code",
   "execution_count": null,
   "metadata": {},
   "outputs": [
    {
     "data": {
      "text/plain": [
       "0.0:0.01002004008016032:5.0"
      ]
     },
     "metadata": {},
     "output_type": "display_data"
    }
   ],
   "source": [
    "dt = 0.01\n",
    "t = range(0, t_stop, 500)\n",
    "t"
   ]
  },
  {
   "cell_type": "code",
   "execution_count": null,
   "metadata": {},
   "outputs": [
    {
     "data": {
      "text/plain": [
       "t: 0.0:0.01002004008016032:5.0\n",
       "u: 500-element Vector{Vector{Float64}}:\n",
       " [2.0943951023931953, 0.0, -0.17453292519943295, 0.0]\n",
       " [2.093892727794568, -0.1002718148594462, -0.17477031576780788, -0.047361688467315]\n",
       " [2.0923857338065837, -0.20051767898773526, -0.17548119651329958, -0.09446566162367707]\n",
       " [2.089874512316763, -0.3007111508060837, -0.17666169217282704, -0.14105372938857924]\n",
       " [2.0863597246275583, -0.4008248182697641, -0.17830533609426816, -0.18686676551089001]\n",
       " [2.0818423134938038, -0.5008298418502478, -0.18040305865053075, -0.23164427293860568]\n",
       " [2.076323519577815, -0.6006955317654576, -0.18294317148887201, -0.2751239894162722]\n",
       " [2.069804901918936, -0.7003889715061674, -0.18591134808623772, -0.31704154681648083]\n",
       " [2.0622883618913157, -0.7998747002091745, -0.18929060121668145, -0.3571301977165818]\n",
       " [2.0537761699948334, -0.8991144670078379, -0.1930612580721276, -0.3951206226371907]\n",
       " ⋮\n",
       " [-0.11613910894023596, -4.4776867736889425, 7.278673697988922, -1.7218077760104107]\n",
       " [-0.16053801455439923, -4.3835492670133664, 7.2599127844500435, -2.0217833125716056]\n",
       " [-0.2039680558672177, -4.284106009021184, 7.238179522753177, -2.3150140108684756]\n",
       " [-0.2463703579186004, -4.178233875161714, 7.213543772354339, -2.601042788066967]\n",
       " [-0.287675318032719, -4.064916713625344, 7.186080007668746, -2.8794106387414]\n",
       " [-0.32780373308398425, -3.943255996139626, 7.1558671806928364, -3.1496882975237526]\n",
       " [-0.366668020773485, -3.8124788731823114, 7.122988257425244, -3.4115093994105914]\n",
       " [-0.404173506838206, -3.6719431947583643, 7.087529421169394, -3.6646035735052447]\n",
       " [-0.4402197451947838, -3.5211389770525665, 7.0495789500628065, -3.908828179260892]"
      ]
     },
     "metadata": {},
     "output_type": "display_data"
    }
   ],
   "source": [
    "ss = sol(t)"
   ]
  },
  {
   "cell_type": "code",
   "execution_count": null,
   "metadata": {},
   "outputs": [
    {
     "data": {
      "text/plain": [
       "500×4 adjoint(::Matrix{Float64}) with eltype Float64:\n",
       "  2.0944     0.0       -0.174533   0.0\n",
       "  2.09389   -0.100272  -0.17477   -0.0473617\n",
       "  2.09239   -0.200518  -0.175481  -0.0944657\n",
       "  2.08987   -0.300711  -0.176662  -0.141054\n",
       "  2.08636   -0.400825  -0.178305  -0.186867\n",
       "  2.08184   -0.50083   -0.180403  -0.231644\n",
       "  2.07632   -0.600696  -0.182943  -0.275124\n",
       "  2.0698    -0.700389  -0.185911  -0.317042\n",
       "  2.06229   -0.799875  -0.189291  -0.35713\n",
       "  2.05378   -0.899114  -0.193061  -0.395121\n",
       "  ⋮                               \n",
       " -0.116139  -4.47769    7.27867   -1.72181\n",
       " -0.160538  -4.38355    7.25991   -2.02178\n",
       " -0.203968  -4.28411    7.23818   -2.31501\n",
       " -0.24637   -4.17823    7.21354   -2.60104\n",
       " -0.287675  -4.06492    7.18608   -2.87941\n",
       " -0.327804  -3.94326    7.15587   -3.14969\n",
       " -0.366668  -3.81248    7.12299   -3.41151\n",
       " -0.404174  -3.67194    7.08753   -3.6646\n",
       " -0.44022   -3.52114    7.04958   -3.90883"
      ]
     },
     "metadata": {},
     "output_type": "display_data"
    }
   ],
   "source": [
    "s = reduce(hcat, ss.u)'"
   ]
  },
  {
   "cell_type": "code",
   "execution_count": null,
   "metadata": {},
   "outputs": [
    {
     "data": {
      "text/plain": [
       "500-element Vector{Float64}:\n",
       "  2.0943951023931953\n",
       "  2.093892727794568\n",
       "  2.0923857338065837\n",
       "  2.089874512316763\n",
       "  2.0863597246275583\n",
       "  2.0818423134938038\n",
       "  2.076323519577815\n",
       "  2.069804901918936\n",
       "  2.0622883618913157\n",
       "  2.0537761699948334\n",
       "  ⋮\n",
       " -0.11613910894023596\n",
       " -0.16053801455439923\n",
       " -0.2039680558672177\n",
       " -0.2463703579186004\n",
       " -0.287675318032719\n",
       " -0.32780373308398425\n",
       " -0.366668020773485\n",
       " -0.404173506838206\n",
       " -0.4402197451947838"
      ]
     },
     "metadata": {},
     "output_type": "display_data"
    }
   ],
   "source": [
    "# theta1\n",
    "s[:, 1]"
   ]
  },
  {
   "cell_type": "code",
   "execution_count": null,
   "metadata": {},
   "outputs": [
    {
     "data": {
      "text/plain": [
       "500-element Vector{Float64}:\n",
       " -0.48480775301220824\n",
       " -0.48520163506531977\n",
       " -0.4863838171334237\n",
       " -0.4883559068223133\n",
       " -0.49112058298184197\n",
       " -0.4946815946474795\n",
       " -0.499043758925124\n",
       " -0.5042129571957659\n",
       " -0.5101961288529362\n",
       " -0.5170012616341575\n",
       "  ⋮\n",
       " -1.537356613268544\n",
       " -1.5468788057341616\n",
       " -1.556884012872978\n",
       " -1.567350616246526\n",
       " -1.5782459039766115\n",
       " -1.5895261435074444\n",
       " -1.6011366077255564\n",
       " -1.6130116056633983\n",
       " -1.625074551166418"
      ]
     },
     "metadata": {},
     "output_type": "display_data"
    }
   ],
   "source": [
    "# u[1] = theta1\n",
    "# u[2] = omega1\n",
    "# u[3] = theta2\n",
    "# u[4] = omega2\n",
    "\n",
    "x1 = +L1 * sin.(s[:, 1])\n",
    "y1 = -L1 * cos.(s[:, 1])\n",
    "\n",
    "x2 = +L2 * sin.(s[:, 3]) + x1\n",
    "y2 = -L2 * cos.(s[:, 3]) + y1"
   ]
  },
  {
   "cell_type": "code",
   "execution_count": null,
   "metadata": {},
   "outputs": [
    {
     "data": {
      "image/png": "[encoded data removed]",
      "image/svg+xml": [
       "<?xml version=\"1.0\" encoding=\"utf-8\"?>\n",
       "<svg xmlns=\"http://www.w3.org/2000/svg\" xmlns:xlink=\"http://www.w3.org/1999/xlink\" width=\"600\" height=\"400\" viewBox=\"0 0 2400 1600\">\n",
       "<defs>\n",
       "  <clipPath id=\"clip590\">\n",
       "    <rect x=\"0\" y=\"0\" width=\"2400\" height=\"1600\"/>\n",
       "  </clipPath>\n",
       "</defs>\n",
       "<path clip-path=\"url(#clip590)\" d=\"M0 1600 L2400 1600 L2400 0 L0 0  Z\" fill=\"#ffffff\" fill-rule=\"evenodd\" fill-opacity=\"1\"/>\n",
       "<defs>\n",
       "  <clipPath id=\"clip591\">\n",
       "    <rect x=\"480\" y=\"0\" width=\"1681\" height=\"1600\"/>\n",
       "  </clipPath>\n",
       "</defs>\n",
       "<path clip-path=\"url(#clip590)\" d=\"M593.783 1423.18 L1969.72 1423.18 L1969.72 47.2441 L593.783 47.2441  Z\" fill=\"#ffffff\" fill-rule=\"evenodd\" fill-opacity=\"1\"/>\n",
       "<defs>\n",
       "  <clipPath id=\"clip592\">\n",
       "    <rect x=\"593\" y=\"47\" width=\"1377\" height=\"1377\"/>\n",
       "  </clipPath>\n",
       "</defs>\n",
       "<polyline clip-path=\"url(#clip592)\" style=\"stroke:#000000; stroke-linecap:round; stroke-linejoin:round; stroke-width:8; stroke-opacity:0.1; fill:none\" points=\"632.725,1423.18 632.725,47.2441 \"/>\n",
       "<polyline clip-path=\"url(#clip592)\" style=\"stroke:#000000; stroke-linecap:round; stroke-linejoin:round; stroke-width:8; stroke-opacity:0.1; fill:none\" points=\"957.238,1423.18 957.238,47.2441 \"/>\n",
       "<polyline clip-path=\"url(#clip592)\" style=\"stroke:#000000; stroke-linecap:round; stroke-linejoin:round; stroke-width:8; stroke-opacity:0.1; fill:none\" points=\"1281.75,1423.18 1281.75,47.2441 \"/>\n",
       "<polyline clip-path=\"url(#clip592)\" style=\"stroke:#000000; stroke-linecap:round; stroke-linejoin:round; stroke-width:8; stroke-opacity:0.1; fill:none\" points=\"1606.26,1423.18 1606.26,47.2441 \"/>\n",
       "<polyline clip-path=\"url(#clip592)\" style=\"stroke:#000000; stroke-linecap:round; stroke-linejoin:round; stroke-width:8; stroke-opacity:0.1; fill:none\" points=\"1930.78,1423.18 1930.78,47.2441 \"/>\n",
       "<polyline clip-path=\"url(#clip590)\" style=\"stroke:#000000; stroke-linecap:round; stroke-linejoin:round; stroke-width:4; stroke-opacity:1; fill:none\" points=\"593.783,1423.18 1969.72,1423.18 \"/>\n",
       "<polyline clip-path=\"url(#clip590)\" style=\"stroke:#000000; stroke-linecap:round; stroke-linejoin:round; stroke-width:4; stroke-opacity:1; fill:none\" points=\"632.725,1423.18 632.725,1404.28 \"/>\n",
       "<polyline clip-path=\"url(#clip590)\" style=\"stroke:#000000; stroke-linecap:round; stroke-linejoin:round; stroke-width:4; stroke-opacity:1; fill:none\" points=\"957.238,1423.18 957.238,1404.28 \"/>\n",
       "<polyline clip-path=\"url(#clip590)\" style=\"stroke:#000000; stroke-linecap:round; stroke-linejoin:round; stroke-width:4; stroke-opacity:1; fill:none\" points=\"1281.75,1423.18 1281.75,1404.28 \"/>\n",
       "<polyline clip-path=\"url(#clip590)\" style=\"stroke:#000000; stroke-linecap:round; stroke-linejoin:round; stroke-width:4; stroke-opacity:1; fill:none\" points=\"1606.26,1423.18 1606.26,1404.28 \"/>\n",
       "<polyline clip-path=\"url(#clip590)\" style=\"stroke:#000000; stroke-linecap:round; stroke-linejoin:round; stroke-width:4; stroke-opacity:1; fill:none\" points=\"1930.78,1423.18 1930.78,1404.28 \"/>\n",
       "<path clip-path=\"url(#clip590)\" d=\"M602.667 1468.75 L632.343 1468.75 L632.343 1472.69 L602.667 1472.69 L602.667 1468.75 Z\" fill=\"#000000\" fill-rule=\"nonzero\" fill-opacity=\"1\" /><path clip-path=\"url(#clip590)\" d=\"M646.463 1481.64 L662.782 1481.64 L662.782 1485.58 L640.838 1485.58 L640.838 1481.64 Q643.5 1478.89 648.083 1474.26 Q652.69 1469.61 653.87 1468.27 Q656.116 1465.74 656.995 1464.01 Q657.898 1462.25 657.898 1460.56 Q657.898 1457.8 655.954 1456.07 Q654.032 1454.33 650.931 1454.33 Q648.731 1454.33 646.278 1455.09 Q643.847 1455.86 641.069 1457.41 L641.069 1452.69 Q643.894 1451.55 646.347 1450.97 Q648.801 1450.39 650.838 1450.39 Q656.208 1450.39 659.403 1453.08 Q662.597 1455.77 662.597 1460.26 Q662.597 1462.39 661.787 1464.31 Q661 1466.2 658.893 1468.8 Q658.315 1469.47 655.213 1472.69 Q652.111 1475.88 646.463 1481.64 Z\" fill=\"#000000\" fill-rule=\"nonzero\" fill-opacity=\"1\" /><path clip-path=\"url(#clip590)\" d=\"M926.995 1468.75 L956.671 1468.75 L956.671 1472.69 L926.995 1472.69 L926.995 1468.75 Z\" fill=\"#000000\" fill-rule=\"nonzero\" fill-opacity=\"1\" /><path clip-path=\"url(#clip590)\" d=\"M967.573 1481.64 L975.212 1481.64 L975.212 1455.28 L966.902 1456.95 L966.902 1452.69 L975.166 1451.02 L979.842 1451.02 L979.842 1481.64 L987.481 1481.64 L987.481 1485.58 L967.573 1485.58 L967.573 1481.64 Z\" fill=\"#000000\" fill-rule=\"nonzero\" fill-opacity=\"1\" /><path clip-path=\"url(#clip590)\" d=\"M1281.75 1454.1 Q1278.14 1454.1 1276.31 1457.66 Q1274.51 1461.2 1274.51 1468.33 Q1274.51 1475.44 1276.31 1479.01 Q1278.14 1482.55 1281.75 1482.55 Q1285.39 1482.55 1287.19 1479.01 Q1289.02 1475.44 1289.02 1468.33 Q1289.02 1461.2 1287.19 1457.66 Q1285.39 1454.1 1281.75 1454.1 M1281.75 1450.39 Q1287.56 1450.39 1290.62 1455 Q1293.7 1459.58 1293.7 1468.33 Q1293.7 1477.06 1290.62 1481.67 Q1287.56 1486.25 1281.75 1486.25 Q1275.94 1486.25 1272.86 1481.67 Q1269.81 1477.06 1269.81 1468.33 Q1269.81 1459.58 1272.86 1455 Q1275.94 1450.39 1281.75 1450.39 Z\" fill=\"#000000\" fill-rule=\"nonzero\" fill-opacity=\"1\" /><path clip-path=\"url(#clip590)\" d=\"M1596.65 1481.64 L1604.28 1481.64 L1604.28 1455.28 L1595.97 1456.95 L1595.97 1452.69 L1604.24 1451.02 L1608.91 1451.02 L1608.91 1481.64 L1616.55 1481.64 L1616.55 1485.58 L1596.65 1485.58 L1596.65 1481.64 Z\" fill=\"#000000\" fill-rule=\"nonzero\" fill-opacity=\"1\" /><path clip-path=\"url(#clip590)\" d=\"M1925.43 1481.64 L1941.75 1481.64 L1941.75 1485.58 L1919.81 1485.58 L1919.81 1481.64 Q1922.47 1478.89 1927.05 1474.26 Q1931.66 1469.61 1932.84 1468.27 Q1935.08 1465.74 1935.96 1464.01 Q1936.87 1462.25 1936.87 1460.56 Q1936.87 1457.8 1934.92 1456.07 Q1933 1454.33 1929.9 1454.33 Q1927.7 1454.33 1925.24 1455.09 Q1922.81 1455.86 1920.04 1457.41 L1920.04 1452.69 Q1922.86 1451.55 1925.31 1450.97 Q1927.77 1450.39 1929.81 1450.39 Q1935.18 1450.39 1938.37 1453.08 Q1941.56 1455.77 1941.56 1460.26 Q1941.56 1462.39 1940.75 1464.31 Q1939.97 1466.2 1937.86 1468.8 Q1937.28 1469.47 1934.18 1472.69 Q1931.08 1475.88 1925.43 1481.64 Z\" fill=\"#000000\" fill-rule=\"nonzero\" fill-opacity=\"1\" /><path clip-path=\"url(#clip590)\" d=\"M1279.83 1532.4 L1266.93 1549.74 L1280.49 1568.04 L1273.59 1568.04 L1263.21 1554.04 L1252.83 1568.04 L1245.93 1568.04 L1259.77 1549.39 L1247.11 1532.4 L1254.01 1532.4 L1263.47 1545.1 L1272.92 1532.4 L1279.83 1532.4 Z\" fill=\"#000000\" fill-rule=\"nonzero\" fill-opacity=\"1\" /><path clip-path=\"url(#clip590)\" d=\"M1295.13 1562.63 L1317.57 1562.63 L1317.57 1568.04 L1287.4 1568.04 L1287.4 1562.63 Q1291.06 1558.85 1297.36 1552.48 Q1303.7 1546.08 1305.32 1544.24 Q1308.41 1540.77 1309.62 1538.38 Q1310.86 1535.96 1310.86 1533.64 Q1310.86 1529.85 1308.18 1527.46 Q1305.54 1525.08 1301.28 1525.08 Q1298.25 1525.08 1294.88 1526.13 Q1291.54 1527.18 1287.72 1529.31 L1287.72 1522.82 Q1291.6 1521.26 1294.98 1520.46 Q1298.35 1519.66 1301.15 1519.66 Q1308.53 1519.66 1312.93 1523.36 Q1317.32 1527.05 1317.32 1533.22 Q1317.32 1536.15 1316.21 1538.79 Q1315.12 1541.4 1312.23 1544.97 Q1311.43 1545.89 1307.17 1550.32 Q1302.9 1554.71 1295.13 1562.63 Z\" fill=\"#000000\" fill-rule=\"nonzero\" fill-opacity=\"1\" /><polyline clip-path=\"url(#clip592)\" style=\"stroke:#000000; stroke-linecap:round; stroke-linejoin:round; stroke-width:8; stroke-opacity:0.1; fill:none\" points=\"593.783,1384.24 1969.72,1384.24 \"/>\n",
       "<polyline clip-path=\"url(#clip592)\" style=\"stroke:#000000; stroke-linecap:round; stroke-linejoin:round; stroke-width:8; stroke-opacity:0.1; fill:none\" points=\"593.783,1059.73 1969.72,1059.73 \"/>\n",
       "<polyline clip-path=\"url(#clip592)\" style=\"stroke:#000000; stroke-linecap:round; stroke-linejoin:round; stroke-width:8; stroke-opacity:0.1; fill:none\" points=\"593.783,735.212 1969.72,735.212 \"/>\n",
       "<polyline clip-path=\"url(#clip592)\" style=\"stroke:#000000; stroke-linecap:round; stroke-linejoin:round; stroke-width:8; stroke-opacity:0.1; fill:none\" points=\"593.783,410.699 1969.72,410.699 \"/>\n",
       "<polyline clip-path=\"url(#clip592)\" style=\"stroke:#000000; stroke-linecap:round; stroke-linejoin:round; stroke-width:8; stroke-opacity:0.1; fill:none\" points=\"593.783,86.1857 1969.72,86.1857 \"/>\n",
       "<polyline clip-path=\"url(#clip590)\" style=\"stroke:#000000; stroke-linecap:round; stroke-linejoin:round; stroke-width:4; stroke-opacity:1; fill:none\" points=\"593.783,1423.18 593.783,47.2441 \"/>\n",
       "<polyline clip-path=\"url(#clip590)\" style=\"stroke:#000000; stroke-linecap:round; stroke-linejoin:round; stroke-width:4; stroke-opacity:1; fill:none\" points=\"593.783,1384.24 605.922,1384.24 \"/>\n",
       "<polyline clip-path=\"url(#clip590)\" style=\"stroke:#000000; stroke-linecap:round; stroke-linejoin:round; stroke-width:4; stroke-opacity:1; fill:none\" points=\"593.783,1059.73 605.922,1059.73 \"/>\n",
       "<polyline clip-path=\"url(#clip590)\" style=\"stroke:#000000; stroke-linecap:round; stroke-linejoin:round; stroke-width:4; stroke-opacity:1; fill:none\" points=\"593.783,735.212 605.922,735.212 \"/>\n",
       "<polyline clip-path=\"url(#clip590)\" style=\"stroke:#000000; stroke-linecap:round; stroke-linejoin:round; stroke-width:4; stroke-opacity:1; fill:none\" points=\"593.783,410.699 605.922,410.699 \"/>\n",
       "<polyline clip-path=\"url(#clip590)\" style=\"stroke:#000000; stroke-linecap:round; stroke-linejoin:round; stroke-width:4; stroke-opacity:1; fill:none\" points=\"593.783,86.1857 605.922,86.1857 \"/>\n",
       "<path clip-path=\"url(#clip590)\" d=\"M497.668 1384.69 L527.343 1384.69 L527.343 1388.62 L497.668 1388.62 L497.668 1384.69 Z\" fill=\"#000000\" fill-rule=\"nonzero\" fill-opacity=\"1\" /><path clip-path=\"url(#clip590)\" d=\"M541.464 1397.58 L557.783 1397.58 L557.783 1401.52 L535.839 1401.52 L535.839 1397.58 Q538.501 1394.83 543.084 1390.2 Q547.691 1385.55 548.871 1384.2 Q551.116 1381.68 551.996 1379.94 Q552.899 1378.19 552.899 1376.5 Q552.899 1373.74 550.954 1372 Q549.033 1370.27 545.931 1370.27 Q543.732 1370.27 541.279 1371.03 Q538.848 1371.8 536.07 1373.35 L536.07 1368.62 Q538.894 1367.49 541.348 1366.91 Q543.802 1366.33 545.839 1366.33 Q551.209 1366.33 554.403 1369.02 Q557.598 1371.7 557.598 1376.19 Q557.598 1378.32 556.788 1380.25 Q556.001 1382.14 553.894 1384.74 Q553.315 1385.41 550.214 1388.62 Q547.112 1391.82 541.464 1397.58 Z\" fill=\"#000000\" fill-rule=\"nonzero\" fill-opacity=\"1\" /><path clip-path=\"url(#clip590)\" d=\"M497.297 1060.18 L526.973 1060.18 L526.973 1064.11 L497.297 1064.11 L497.297 1060.18 Z\" fill=\"#000000\" fill-rule=\"nonzero\" fill-opacity=\"1\" /><path clip-path=\"url(#clip590)\" d=\"M537.876 1073.07 L545.515 1073.07 L545.515 1046.7 L537.204 1048.37 L537.204 1044.11 L545.468 1042.45 L550.144 1042.45 L550.144 1073.07 L557.783 1073.07 L557.783 1077.01 L537.876 1077.01 L537.876 1073.07 Z\" fill=\"#000000\" fill-rule=\"nonzero\" fill-opacity=\"1\" /><path clip-path=\"url(#clip590)\" d=\"M545.839 721.011 Q542.228 721.011 540.399 724.575 Q538.593 728.117 538.593 735.247 Q538.593 742.353 540.399 745.918 Q542.228 749.46 545.839 749.46 Q549.473 749.46 551.278 745.918 Q553.107 742.353 553.107 735.247 Q553.107 728.117 551.278 724.575 Q549.473 721.011 545.839 721.011 M545.839 717.307 Q551.649 717.307 554.704 721.913 Q557.783 726.497 557.783 735.247 Q557.783 743.973 554.704 748.58 Q551.649 753.163 545.839 753.163 Q540.029 753.163 536.95 748.58 Q533.894 743.973 533.894 735.247 Q533.894 726.497 536.95 721.913 Q540.029 717.307 545.839 717.307 Z\" fill=\"#000000\" fill-rule=\"nonzero\" fill-opacity=\"1\" /><path clip-path=\"url(#clip590)\" d=\"M537.876 424.044 L545.515 424.044 L545.515 397.678 L537.204 399.345 L537.204 395.085 L545.468 393.419 L550.144 393.419 L550.144 424.044 L557.783 424.044 L557.783 427.979 L537.876 427.979 L537.876 424.044 Z\" fill=\"#000000\" fill-rule=\"nonzero\" fill-opacity=\"1\" /><path clip-path=\"url(#clip590)\" d=\"M541.464 99.5305 L557.783 99.5305 L557.783 103.466 L535.839 103.466 L535.839 99.5305 Q538.501 96.7759 543.084 92.1463 Q547.691 87.4935 548.871 86.151 Q551.116 83.6278 551.996 81.8917 Q552.899 80.1325 552.899 78.4427 Q552.899 75.688 550.954 73.9519 Q549.033 72.2158 545.931 72.2158 Q543.732 72.2158 541.279 72.9797 Q538.848 73.7436 536.07 75.2945 L536.07 70.5723 Q538.894 69.4381 541.348 68.8594 Q543.802 68.2807 545.839 68.2807 Q551.209 68.2807 554.403 70.9658 Q557.598 73.651 557.598 78.1417 Q557.598 80.2714 556.788 82.1926 Q556.001 84.0908 553.894 86.6834 Q553.315 87.3546 550.214 90.5722 Q547.112 93.7667 541.464 99.5305 Z\" fill=\"#000000\" fill-rule=\"nonzero\" fill-opacity=\"1\" /><path clip-path=\"url(#clip590)\" d=\"M450.351 751.97 Q456.717 754.452 458.659 756.808 Q460.6 759.163 460.6 763.11 L460.6 767.788 L455.699 767.788 L455.699 764.351 Q455.699 761.932 454.553 760.595 Q453.407 759.258 449.142 757.635 L446.468 756.585 L411.393 771.003 L411.393 764.797 L439.275 753.657 L411.393 742.517 L411.393 736.31 L450.351 751.97 Z\" fill=\"#000000\" fill-rule=\"nonzero\" fill-opacity=\"1\" /><path clip-path=\"url(#clip590)\" d=\"M441.63 721.86 L441.63 699.421 L447.041 699.421 L447.041 729.594 L441.63 729.594 Q437.843 725.934 431.477 719.632 Q425.08 713.298 423.234 711.675 Q419.764 708.587 417.377 707.378 Q414.958 706.137 412.635 706.137 Q408.847 706.137 406.46 708.81 Q404.073 711.452 404.073 715.717 Q404.073 718.741 405.123 722.115 Q406.173 725.457 408.306 729.276 L401.813 729.276 Q400.253 725.393 399.458 722.019 Q398.662 718.645 398.662 715.844 Q398.662 708.46 402.354 704.068 Q406.046 699.675 412.221 699.675 Q415.149 699.675 417.791 700.789 Q420.401 701.872 423.966 704.768 Q424.889 705.564 429.313 709.829 Q433.705 714.094 441.63 721.86 Z\" fill=\"#000000\" fill-rule=\"nonzero\" fill-opacity=\"1\" /><polyline clip-path=\"url(#clip592)\" style=\"stroke:#009af9; stroke-linecap:round; stroke-linejoin:round; stroke-width:4; stroke-opacity:1; fill:none\" points=\"1506.44,892.538 1506.44,892.666 1506.46,893.05 1506.49,893.69 1506.53,894.587 1506.58,895.743 1506.64,897.158 1506.71,898.836 1506.79,900.777 1506.88,902.986 1506.98,905.464 1507.09,908.215 1507.21,911.242 1507.34,914.55 1507.48,918.142 1507.62,922.024 1507.77,926.199 1507.92,930.673 1508.08,935.45 1508.23,940.537 1508.39,945.938 1508.55,951.66 1508.71,957.706 1508.87,964.084 1509.02,970.798 1509.16,977.853 1509.3,985.255 1509.42,993.008 1509.54,1001.12 1509.65,1009.58 1509.74,1018.41 1509.81,1027.6 1509.88,1037.16 1509.93,1047.08 1509.96,1057.37 1509.98,1068.02 1509.99,1079.03 1509.99,1090.39 1509.98,1102.1 1509.97,1114.15 1509.95,1126.52 1509.94,1139.21 1509.93,1152.19 1509.93,1165.45 1509.95,1178.95 1510,1192.66 1510.07,1206.53 1510.18,1220.53 1510.34,1234.59 1510.53,1248.62 1510.78,1262.52 1511.07,1276.17 1511.38,1289.39 1511.69,1301.96 1511.94,1313.6 1512.04,1323.95 1511.83,1332.55 1511.09,1338.91 1509.55,1342.62 1506.9,1343.41 1502.95,1341.38 1497.63,1336.87 1491.02,1330.4 1483.25,1322.46 1474.52,1313.5 1464.98,1303.84 1454.8,1293.75 1444.08,1283.4 1432.95,1272.95 1421.48,1262.5 1409.74,1252.13 1397.81,1241.9 1385.72,1231.86 1373.52,1222.04 1361.25,1212.49 1348.92,1203.21 1336.58,1194.24 1324.23,1185.58 1311.88,1177.24 1299.55,1169.24 1287.24,1161.57 1274.96,1154.25 1262.7,1147.26 1250.45,1140.61 1238.22,1134.28 1225.99,1128.28 1213.75,1122.59 1201.49,1117.19 1189.19,1112.08 1176.86,1107.24 1164.47,1102.64 1152.01,1098.27 1139.49,1094.11 1126.88,1090.15 1114.19,1086.35 1101.4,1082.71 1088.53,1079.19 1075.58,1075.8 1062.54,1072.5 1049.41,1069.28 1036.22,1066.14 1022.96,1063.07 1009.65,1060.05 996.298,1057.07 982.909,1054.14 969.497,1051.25 956.076,1048.4 942.655,1045.59 929.248,1042.81 915.865,1040.07 902.518,1037.37 889.22,1034.72 875.982,1032.1 862.817,1029.52 849.738,1026.98 836.759,1024.47 823.898,1021.99 811.172,1019.53 798.603,1017.08 786.217,1014.62 774.047,1012.13 762.13,1009.59 750.518,1006.97 739.273,1004.23 728.474,1001.32 718.223,998.196 708.649,994.789 699.908,991.037 692.192,986.879 685.714,982.266 680.694,977.175 677.329,971.625 675.749,965.683 675.996,959.459 678.012,953.088 681.663,946.706 686.774,940.436 693.155,934.374 700.623,928.594 709.015,923.146 718.19,918.066 728.027,913.375 738.422,909.086 749.29,905.205 760.557,901.734 772.159,898.671 784.041,896.01 796.155,893.746 808.459,891.87 820.915,890.372 833.486,889.243 846.143,888.471 858.856,888.045 871.597,887.952 884.341,888.179 897.063,888.714 909.74,889.544 922.35,890.656 934.873,892.038 947.287,893.677 959.575,895.562 971.718,897.684 983.7,900.034 995.508,902.604 1007.13,905.39 1018.55,908.389 1029.77,911.6 1040.77,915.024 1051.57,918.666 1062.16,922.533 1072.55,926.635 1082.75,930.98 1092.78,935.583 1102.66,940.456 1112.42,945.613 1122.09,951.065 1131.7,956.826 1141.31,962.903 1150.94,969.304 1160.65,976.029 1170.49,983.078 1180.49,990.445 1190.71,998.117 1201.19,1006.08 1211.97,1014.31 1223.09,1022.79 1234.58,1031.49 1246.45,1040.37 1258.74,1049.41 1271.44,1058.58 1284.58,1067.84 1298.14,1077.15 1312.12,1086.5 1326.51,1095.84 1341.3,1105.16 1356.46,1114.43 1371.99,1123.62 1387.84,1132.72 1404.01,1141.71 1420.47,1150.56 1437.19,1159.26 1454.15,1167.78 1471.32,1176.11 1488.69,1184.2 1506.21,1192.04 1523.87,1199.57 1541.63,1206.74 1559.45,1213.48 1577.3,1219.71 1595.1,1225.3 1612.79,1230.1 1630.22,1233.91 1647.25,1236.47 1663.62,1237.45 1678.98,1236.48 1692.86,1233.13 1704.73,1227.12 1714.12,1218.37 1720.76,1207.12 1724.67,1193.87 1726.12,1179.18 1725.43,1163.55 1722.95,1147.36 1718.99,1130.91 1713.79,1114.38 1707.54,1097.91 1700.41,1081.61 1692.52,1065.54 1683.97,1049.75 1674.85,1034.28 1665.23,1019.16 1655.16,1004.4 1644.69,990.028 1633.88,976.046 1622.75,962.464 1611.35,949.288 1599.7,936.519 1587.82,924.16 1575.75,912.21 1563.5,900.669 1551.1,889.532 1538.57,878.797 1525.92,868.458 1513.18,858.509 1500.35,848.943 1487.46,839.751 1474.52,830.925 1461.54,822.455 1448.53,814.329 1435.51,806.537 1422.49,799.066 1409.48,791.905 1396.49,785.04 1383.51,778.461 1370.57,772.155 1357.66,766.112 1344.79,760.322 1331.96,754.777 1319.17,749.47 1306.41,744.398 1293.7,739.558 1281.01,734.949 1268.36,730.575 1255.73,726.438 1243.13,722.546 1230.54,718.906 1217.96,715.527 1205.4,712.421 1192.84,709.599 1180.28,707.074 1167.73,704.857 1155.17,702.964 1142.62,701.405 1130.06,700.195 1117.5,699.346 1104.95,698.87 1092.4,698.778 1079.86,699.081 1067.34,699.79 1054.83,700.915 1042.34,702.465 1029.88,704.449 1017.46,706.874 1005.08,709.748 992.752,713.079 980.481,716.873 968.277,721.136 956.15,725.873 944.111,731.091 932.169,736.792 920.337,742.982 908.626,749.666 897.051,756.845 885.625,764.523 874.363,772.704 863.282,781.389 852.4,790.579 841.735,800.277 831.308,810.482 821.143,821.195 811.265,832.414 801.7,844.138 792.482,856.365 783.643,869.088 775.224,882.303 767.27,896 759.831,910.169 752.967,924.795 746.746,939.856 741.25,955.326 736.573,971.168 732.827,987.334 730.144,1003.76 728.677,1020.35 728.601,1037 730.106,1053.54 733.385,1069.8 738.605,1085.54 745.872,1100.52 755.198,1114.53 766.48,1127.41 779.516,1139.08 794.05,1149.55 809.812,1158.87 826.554,1167.17 844.064,1174.54 862.168,1181.11 880.727,1186.98 899.63,1192.23 918.788,1196.94 938.13,1201.19 957.596,1205.01 977.137,1208.47 996.711,1211.6 1016.28,1214.45 1035.82,1217.05 1055.3,1219.43 1074.69,1221.62 1093.98,1223.67 1113.15,1225.59 1132.18,1227.42 1151.07,1229.19 1169.81,1230.92 1188.4,1232.65 1206.82,1234.4 1225.09,1236.19 1243.2,1238.06 1261.16,1240.03 1278.96,1242.11 1296.62,1244.33 1314.14,1246.7 1331.51,1249.22 1348.75,1251.92 1365.84,1254.79 1382.79,1257.83 1399.59,1261.04 1416.22,1264.41 1432.66,1267.93 1448.89,1271.57 1464.88,1275.31 1480.59,1279.11 1495.96,1282.91 1510.93,1286.65 1525.43,1290.25 1539.37,1293.59 1552.63,1296.53 1565.09,1298.91 1576.62,1300.5 1587.08,1301.06 1596.36,1300.32 1604.41,1298.05 1611.24,1294.11 1616.94,1288.47 1621.69,1281.24 1625.67,1272.61 1629.05,1262.83 1631.98,1252.15 1634.58,1240.79 1636.94,1228.94 1639.11,1216.76 1641.15,1204.37 1643.1,1191.87 1644.97,1179.34 1646.78,1166.86 1648.55,1154.48 1650.29,1142.23 1652,1130.15 1653.69,1118.28 1655.36,1106.62 1657.03,1095.21 1658.68,1084.05 1660.32,1073.16 1661.96,1062.55 1663.58,1052.22 1665.21,1042.18 1666.83,1032.43 1668.44,1022.98 1670.05,1013.83 1671.66,1004.98 1673.26,996.427 1674.86,988.18 1676.45,980.235 1678.05,972.593 1679.63,965.254 1681.21,958.217 1682.79,951.482 1684.36,945.048 1685.93,938.917 1687.49,933.087 1689.05,927.559 1690.59,922.333 1692.14,917.41 1693.68,912.789 1695.21,908.471 1696.73,904.456 1698.25,900.747 1699.77,897.342 1701.28,894.244 1702.78,891.452 1704.28,888.968 1705.77,886.794 1707.26,884.929 1708.75,883.375 1710.23,882.133 1711.71,881.205 1713.18,880.59 1714.66,880.29 1716.13,880.307 1717.6,880.64 1719.08,881.291 1720.55,882.261 1722.02,883.55 1723.49,885.159 1724.96,887.088 1726.43,889.339 1727.91,891.912 1729.38,894.806 1730.86,898.022 1732.34,901.561 1733.82,905.422 1735.3,909.606 1736.78,914.111 1738.27,918.937 1739.75,924.084 1741.24,929.551 1742.72,935.336 1744.2,941.437 1745.68,947.854 1747.16,954.583 1748.63,961.621 1750.1,968.964 1751.55,976.609 1753,984.55 1754.42,992.78 1755.83,1001.29 1757.22,1010.08 1758.57,1019.12 1759.89,1028.42 1761.16,1037.94 1762.37,1047.69 1763.51,1057.62 1764.56,1067.71 1765.51,1077.94 1766.31,1088.26 1766.95,1098.62 1767.38,1108.97 1767.55,1119.24 1767.39,1129.34 1766.82,1139.19 1765.73,1148.67 1764.01,1157.67 1761.51,1166.05 1758.09,1173.72 1753.6,1180.57 1747.92,1186.57 1740.99,1191.73 1732.8,1196.1 1723.39,1199.81 1712.85,1202.96 1701.28,1205.7 1688.81,1208.13 1675.56,1210.36 1661.61,1212.48 1647.08,1214.55 1632.02,1216.63 1616.52,1218.76 1600.62,1220.98 1584.37,1223.32 1567.79,1225.79 1550.93,1228.4 1533.81,1231.17 1516.42,1234.1 1498.79,1237.19 1480.92,1240.44 1462.81,1243.84 1444.46,1247.37 1425.86,1251.03 1407.01,1254.8 1387.9,1258.66 1368.53,1262.57 \"/>\n",
       "</svg>\n"
      ],
      "text/html": [
       "<?xml version=\"1.0\" encoding=\"utf-8\"?>\n",
       "<svg xmlns=\"http://www.w3.org/2000/svg\" xmlns:xlink=\"http://www.w3.org/1999/xlink\" width=\"600\" height=\"400\" viewBox=\"0 0 2400 1600\">\n",
       "<defs>\n",
       "  <clipPath id=\"clip640\">\n",
       "    <rect x=\"0\" y=\"0\" width=\"2400\" height=\"1600\"/>\n",
       "  </clipPath>\n",
       "</defs>\n",
       "<path clip-path=\"url(#clip640)\" d=\"M0 1600 L2400 1600 L2400 0 L0 0  Z\" fill=\"#ffffff\" fill-rule=\"evenodd\" fill-opacity=\"1\"/>\n",
       "<defs>\n",
       "  <clipPath id=\"clip641\">\n",
       "    <rect x=\"480\" y=\"0\" width=\"1681\" height=\"1600\"/>\n",
       "  </clipPath>\n",
       "</defs>\n",
       "<path clip-path=\"url(#clip640)\" d=\"M593.783 1423.18 L1969.72 1423.18 L1969.72 47.2441 L593.783 47.2441  Z\" fill=\"#ffffff\" fill-rule=\"evenodd\" fill-opacity=\"1\"/>\n",
       "<defs>\n",
       "  <clipPath id=\"clip642\">\n",
       "    <rect x=\"593\" y=\"47\" width=\"1377\" height=\"1377\"/>\n",
       "  </clipPath>\n",
       "</defs>\n",
       "<polyline clip-path=\"url(#clip642)\" style=\"stroke:#000000; stroke-linecap:round; stroke-linejoin:round; stroke-width:8; stroke-opacity:0.1; fill:none\" points=\"632.725,1423.18 632.725,47.2441 \"/>\n",
       "<polyline clip-path=\"url(#clip642)\" style=\"stroke:#000000; stroke-linecap:round; stroke-linejoin:round; stroke-width:8; stroke-opacity:0.1; fill:none\" points=\"957.238,1423.18 957.238,47.2441 \"/>\n",
       "<polyline clip-path=\"url(#clip642)\" style=\"stroke:#000000; stroke-linecap:round; stroke-linejoin:round; stroke-width:8; stroke-opacity:0.1; fill:none\" points=\"1281.75,1423.18 1281.75,47.2441 \"/>\n",
       "<polyline clip-path=\"url(#clip642)\" style=\"stroke:#000000; stroke-linecap:round; stroke-linejoin:round; stroke-width:8; stroke-opacity:0.1; fill:none\" points=\"1606.26,1423.18 1606.26,47.2441 \"/>\n",
       "<polyline clip-path=\"url(#clip642)\" style=\"stroke:#000000; stroke-linecap:round; stroke-linejoin:round; stroke-width:8; stroke-opacity:0.1; fill:none\" points=\"1930.78,1423.18 1930.78,47.2441 \"/>\n",
       "<polyline clip-path=\"url(#clip640)\" style=\"stroke:#000000; stroke-linecap:round; stroke-linejoin:round; stroke-width:4; stroke-opacity:1; fill:none\" points=\"593.783,1423.18 1969.72,1423.18 \"/>\n",
       "<polyline clip-path=\"url(#clip640)\" style=\"stroke:#000000; stroke-linecap:round; stroke-linejoin:round; stroke-width:4; stroke-opacity:1; fill:none\" points=\"632.725,1423.18 632.725,1404.28 \"/>\n",
       "<polyline clip-path=\"url(#clip640)\" style=\"stroke:#000000; stroke-linecap:round; stroke-linejoin:round; stroke-width:4; stroke-opacity:1; fill:none\" points=\"957.238,1423.18 957.238,1404.28 \"/>\n",
       "<polyline clip-path=\"url(#clip640)\" style=\"stroke:#000000; stroke-linecap:round; stroke-linejoin:round; stroke-width:4; stroke-opacity:1; fill:none\" points=\"1281.75,1423.18 1281.75,1404.28 \"/>\n",
       "<polyline clip-path=\"url(#clip640)\" style=\"stroke:#000000; stroke-linecap:round; stroke-linejoin:round; stroke-width:4; stroke-opacity:1; fill:none\" points=\"1606.26,1423.18 1606.26,1404.28 \"/>\n",
       "<polyline clip-path=\"url(#clip640)\" style=\"stroke:#000000; stroke-linecap:round; stroke-linejoin:round; stroke-width:4; stroke-opacity:1; fill:none\" points=\"1930.78,1423.18 1930.78,1404.28 \"/>\n",
       "<path clip-path=\"url(#clip640)\" d=\"M602.667 1468.75 L632.343 1468.75 L632.343 1472.69 L602.667 1472.69 L602.667 1468.75 Z\" fill=\"#000000\" fill-rule=\"nonzero\" fill-opacity=\"1\" /><path clip-path=\"url(#clip640)\" d=\"M646.463 1481.64 L662.782 1481.64 L662.782 1485.58 L640.838 1485.58 L640.838 1481.64 Q643.5 1478.89 648.083 1474.26 Q652.69 1469.61 653.87 1468.27 Q656.116 1465.74 656.995 1464.01 Q657.898 1462.25 657.898 1460.56 Q657.898 1457.8 655.954 1456.07 Q654.032 1454.33 650.931 1454.33 Q648.731 1454.33 646.278 1455.09 Q643.847 1455.86 641.069 1457.41 L641.069 1452.69 Q643.894 1451.55 646.347 1450.97 Q648.801 1450.39 650.838 1450.39 Q656.208 1450.39 659.403 1453.08 Q662.597 1455.77 662.597 1460.26 Q662.597 1462.39 661.787 1464.31 Q661 1466.2 658.893 1468.8 Q658.315 1469.47 655.213 1472.69 Q652.111 1475.88 646.463 1481.64 Z\" fill=\"#000000\" fill-rule=\"nonzero\" fill-opacity=\"1\" /><path clip-path=\"url(#clip640)\" d=\"M926.995 1468.75 L956.671 1468.75 L956.671 1472.69 L926.995 1472.69 L926.995 1468.75 Z\" fill=\"#000000\" fill-rule=\"nonzero\" fill-opacity=\"1\" /><path clip-path=\"url(#clip640)\" d=\"M967.573 1481.64 L975.212 1481.64 L975.212 1455.28 L966.902 1456.95 L966.902 1452.69 L975.166 1451.02 L979.842 1451.02 L979.842 1481.64 L987.481 1481.64 L987.481 1485.58 L967.573 1485.58 L967.573 1481.64 Z\" fill=\"#000000\" fill-rule=\"nonzero\" fill-opacity=\"1\" /><path clip-path=\"url(#clip640)\" d=\"M1281.75 1454.1 Q1278.14 1454.1 1276.31 1457.66 Q1274.51 1461.2 1274.51 1468.33 Q1274.51 1475.44 1276.31 1479.01 Q1278.14 1482.55 1281.75 1482.55 Q1285.39 1482.55 1287.19 1479.01 Q1289.02 1475.44 1289.02 1468.33 Q1289.02 1461.2 1287.19 1457.66 Q1285.39 1454.1 1281.75 1454.1 M1281.75 1450.39 Q1287.56 1450.39 1290.62 1455 Q1293.7 1459.58 1293.7 1468.33 Q1293.7 1477.06 1290.62 1481.67 Q1287.56 1486.25 1281.75 1486.25 Q1275.94 1486.25 1272.86 1481.67 Q1269.81 1477.06 1269.81 1468.33 Q1269.81 1459.58 1272.86 1455 Q1275.94 1450.39 1281.75 1450.39 Z\" fill=\"#000000\" fill-rule=\"nonzero\" fill-opacity=\"1\" /><path clip-path=\"url(#clip640)\" d=\"M1596.65 1481.64 L1604.28 1481.64 L1604.28 1455.28 L1595.97 1456.95 L1595.97 1452.69 L1604.24 1451.02 L1608.91 1451.02 L1608.91 1481.64 L1616.55 1481.64 L1616.55 1485.58 L1596.65 1485.58 L1596.65 1481.64 Z\" fill=\"#000000\" fill-rule=\"nonzero\" fill-opacity=\"1\" /><path clip-path=\"url(#clip640)\" d=\"M1925.43 1481.64 L1941.75 1481.64 L1941.75 1485.58 L1919.81 1485.58 L1919.81 1481.64 Q1922.47 1478.89 1927.05 1474.26 Q1931.66 1469.61 1932.84 1468.27 Q1935.08 1465.74 1935.96 1464.01 Q1936.87 1462.25 1936.87 1460.56 Q1936.87 1457.8 1934.92 1456.07 Q1933 1454.33 1929.9 1454.33 Q1927.7 1454.33 1925.24 1455.09 Q1922.81 1455.86 1920.04 1457.41 L1920.04 1452.69 Q1922.86 1451.55 1925.31 1450.97 Q1927.77 1450.39 1929.81 1450.39 Q1935.18 1450.39 1938.37 1453.08 Q1941.56 1455.77 1941.56 1460.26 Q1941.56 1462.39 1940.75 1464.31 Q1939.97 1466.2 1937.86 1468.8 Q1937.28 1469.47 1934.18 1472.69 Q1931.08 1475.88 1925.43 1481.64 Z\" fill=\"#000000\" fill-rule=\"nonzero\" fill-opacity=\"1\" /><path clip-path=\"url(#clip640)\" d=\"M1279.83 1532.4 L1266.93 1549.74 L1280.49 1568.04 L1273.59 1568.04 L1263.21 1554.04 L1252.83 1568.04 L1245.93 1568.04 L1259.77 1549.39 L1247.11 1532.4 L1254.01 1532.4 L1263.47 1545.1 L1272.92 1532.4 L1279.83 1532.4 Z\" fill=\"#000000\" fill-rule=\"nonzero\" fill-opacity=\"1\" /><path clip-path=\"url(#clip640)\" d=\"M1295.13 1562.63 L1317.57 1562.63 L1317.57 1568.04 L1287.4 1568.04 L1287.4 1562.63 Q1291.06 1558.85 1297.36 1552.48 Q1303.7 1546.08 1305.32 1544.24 Q1308.41 1540.77 1309.62 1538.38 Q1310.86 1535.96 1310.86 1533.64 Q1310.86 1529.85 1308.18 1527.46 Q1305.54 1525.08 1301.28 1525.08 Q1298.25 1525.08 1294.88 1526.13 Q1291.54 1527.18 1287.72 1529.31 L1287.72 1522.82 Q1291.6 1521.26 1294.98 1520.46 Q1298.35 1519.66 1301.15 1519.66 Q1308.53 1519.66 1312.93 1523.36 Q1317.32 1527.05 1317.32 1533.22 Q1317.32 1536.15 1316.21 1538.79 Q1315.12 1541.4 1312.23 1544.97 Q1311.43 1545.89 1307.17 1550.32 Q1302.9 1554.71 1295.13 1562.63 Z\" fill=\"#000000\" fill-rule=\"nonzero\" fill-opacity=\"1\" /><polyline clip-path=\"url(#clip642)\" style=\"stroke:#000000; stroke-linecap:round; stroke-linejoin:round; stroke-width:8; stroke-opacity:0.1; fill:none\" points=\"593.783,1384.24 1969.72,1384.24 \"/>\n",
       "<polyline clip-path=\"url(#clip642)\" style=\"stroke:#000000; stroke-linecap:round; stroke-linejoin:round; stroke-width:8; stroke-opacity:0.1; fill:none\" points=\"593.783,1059.73 1969.72,1059.73 \"/>\n",
       "<polyline clip-path=\"url(#clip642)\" style=\"stroke:#000000; stroke-linecap:round; stroke-linejoin:round; stroke-width:8; stroke-opacity:0.1; fill:none\" points=\"593.783,735.212 1969.72,735.212 \"/>\n",
       "<polyline clip-path=\"url(#clip642)\" style=\"stroke:#000000; stroke-linecap:round; stroke-linejoin:round; stroke-width:8; stroke-opacity:0.1; fill:none\" points=\"593.783,410.699 1969.72,410.699 \"/>\n",
       "<polyline clip-path=\"url(#clip642)\" style=\"stroke:#000000; stroke-linecap:round; stroke-linejoin:round; stroke-width:8; stroke-opacity:0.1; fill:none\" points=\"593.783,86.1857 1969.72,86.1857 \"/>\n",
       "<polyline clip-path=\"url(#clip640)\" style=\"stroke:#000000; stroke-linecap:round; stroke-linejoin:round; stroke-width:4; stroke-opacity:1; fill:none\" points=\"593.783,1423.18 593.783,47.2441 \"/>\n",
       "<polyline clip-path=\"url(#clip640)\" style=\"stroke:#000000; stroke-linecap:round; stroke-linejoin:round; stroke-width:4; stroke-opacity:1; fill:none\" points=\"593.783,1384.24 605.922,1384.24 \"/>\n",
       "<polyline clip-path=\"url(#clip640)\" style=\"stroke:#000000; stroke-linecap:round; stroke-linejoin:round; stroke-width:4; stroke-opacity:1; fill:none\" points=\"593.783,1059.73 605.922,1059.73 \"/>\n",
       "<polyline clip-path=\"url(#clip640)\" style=\"stroke:#000000; stroke-linecap:round; stroke-linejoin:round; stroke-width:4; stroke-opacity:1; fill:none\" points=\"593.783,735.212 605.922,735.212 \"/>\n",
       "<polyline clip-path=\"url(#clip640)\" style=\"stroke:#000000; stroke-linecap:round; stroke-linejoin:round; stroke-width:4; stroke-opacity:1; fill:none\" points=\"593.783,410.699 605.922,410.699 \"/>\n",
       "<polyline clip-path=\"url(#clip640)\" style=\"stroke:#000000; stroke-linecap:round; stroke-linejoin:round; stroke-width:4; stroke-opacity:1; fill:none\" points=\"593.783,86.1857 605.922,86.1857 \"/>\n",
       "<path clip-path=\"url(#clip640)\" d=\"M497.668 1384.69 L527.343 1384.69 L527.343 1388.62 L497.668 1388.62 L497.668 1384.69 Z\" fill=\"#000000\" fill-rule=\"nonzero\" fill-opacity=\"1\" /><path clip-path=\"url(#clip640)\" d=\"M541.464 1397.58 L557.783 1397.58 L557.783 1401.52 L535.839 1401.52 L535.839 1397.58 Q538.501 1394.83 543.084 1390.2 Q547.691 1385.55 548.871 1384.2 Q551.116 1381.68 551.996 1379.94 Q552.899 1378.19 552.899 1376.5 Q552.899 1373.74 550.954 1372 Q549.033 1370.27 545.931 1370.27 Q543.732 1370.27 541.279 1371.03 Q538.848 1371.8 536.07 1373.35 L536.07 1368.62 Q538.894 1367.49 541.348 1366.91 Q543.802 1366.33 545.839 1366.33 Q551.209 1366.33 554.403 1369.02 Q557.598 1371.7 557.598 1376.19 Q557.598 1378.32 556.788 1380.25 Q556.001 1382.14 553.894 1384.74 Q553.315 1385.41 550.214 1388.62 Q547.112 1391.82 541.464 1397.58 Z\" fill=\"#000000\" fill-rule=\"nonzero\" fill-opacity=\"1\" /><path clip-path=\"url(#clip640)\" d=\"M497.297 1060.18 L526.973 1060.18 L526.973 1064.11 L497.297 1064.11 L497.297 1060.18 Z\" fill=\"#000000\" fill-rule=\"nonzero\" fill-opacity=\"1\" /><path clip-path=\"url(#clip640)\" d=\"M537.876 1073.07 L545.515 1073.07 L545.515 1046.7 L537.204 1048.37 L537.204 1044.11 L545.468 1042.45 L550.144 1042.45 L550.144 1073.07 L557.783 1073.07 L557.783 1077.01 L537.876 1077.01 L537.876 1073.07 Z\" fill=\"#000000\" fill-rule=\"nonzero\" fill-opacity=\"1\" /><path clip-path=\"url(#clip640)\" d=\"M545.839 721.011 Q542.228 721.011 540.399 724.575 Q538.593 728.117 538.593 735.247 Q538.593 742.353 540.399 745.918 Q542.228 749.46 545.839 749.46 Q549.473 749.46 551.278 745.918 Q553.107 742.353 553.107 735.247 Q553.107 728.117 551.278 724.575 Q549.473 721.011 545.839 721.011 M545.839 717.307 Q551.649 717.307 554.704 721.913 Q557.783 726.497 557.783 735.247 Q557.783 743.973 554.704 748.58 Q551.649 753.163 545.839 753.163 Q540.029 753.163 536.95 748.58 Q533.894 743.973 533.894 735.247 Q533.894 726.497 536.95 721.913 Q540.029 717.307 545.839 717.307 Z\" fill=\"#000000\" fill-rule=\"nonzero\" fill-opacity=\"1\" /><path clip-path=\"url(#clip640)\" d=\"M537.876 424.044 L545.515 424.044 L545.515 397.678 L537.204 399.345 L537.204 395.085 L545.468 393.419 L550.144 393.419 L550.144 424.044 L557.783 424.044 L557.783 427.979 L537.876 427.979 L537.876 424.044 Z\" fill=\"#000000\" fill-rule=\"nonzero\" fill-opacity=\"1\" /><path clip-path=\"url(#clip640)\" d=\"M541.464 99.5305 L557.783 99.5305 L557.783 103.466 L535.839 103.466 L535.839 99.5305 Q538.501 96.7759 543.084 92.1463 Q547.691 87.4935 548.871 86.151 Q551.116 83.6278 551.996 81.8917 Q552.899 80.1325 552.899 78.4427 Q552.899 75.688 550.954 73.9519 Q549.033 72.2158 545.931 72.2158 Q543.732 72.2158 541.279 72.9797 Q538.848 73.7436 536.07 75.2945 L536.07 70.5723 Q538.894 69.4381 541.348 68.8594 Q543.802 68.2807 545.839 68.2807 Q551.209 68.2807 554.403 70.9658 Q557.598 73.651 557.598 78.1417 Q557.598 80.2714 556.788 82.1926 Q556.001 84.0908 553.894 86.6834 Q553.315 87.3546 550.214 90.5722 Q547.112 93.7667 541.464 99.5305 Z\" fill=\"#000000\" fill-rule=\"nonzero\" fill-opacity=\"1\" /><path clip-path=\"url(#clip640)\" d=\"M450.351 751.97 Q456.717 754.452 458.659 756.808 Q460.6 759.163 460.6 763.11 L460.6 767.788 L455.699 767.788 L455.699 764.351 Q455.699 761.932 454.553 760.595 Q453.407 759.258 449.142 757.635 L446.468 756.585 L411.393 771.003 L411.393 764.797 L439.275 753.657 L411.393 742.517 L411.393 736.31 L450.351 751.97 Z\" fill=\"#000000\" fill-rule=\"nonzero\" fill-opacity=\"1\" /><path clip-path=\"url(#clip640)\" d=\"M441.63 721.86 L441.63 699.421 L447.041 699.421 L447.041 729.594 L441.63 729.594 Q437.843 725.934 431.477 719.632 Q425.08 713.298 423.234 711.675 Q419.764 708.587 417.377 707.378 Q414.958 706.137 412.635 706.137 Q408.847 706.137 406.46 708.81 Q404.073 711.452 404.073 715.717 Q404.073 718.741 405.123 722.115 Q406.173 725.457 408.306 729.276 L401.813 729.276 Q400.253 725.393 399.458 722.019 Q398.662 718.645 398.662 715.844 Q398.662 708.46 402.354 704.068 Q406.046 699.675 412.221 699.675 Q415.149 699.675 417.791 700.789 Q420.401 701.872 423.966 704.768 Q424.889 705.564 429.313 709.829 Q433.705 714.094 441.63 721.86 Z\" fill=\"#000000\" fill-rule=\"nonzero\" fill-opacity=\"1\" /><polyline clip-path=\"url(#clip642)\" style=\"stroke:#009af9; stroke-linecap:round; stroke-linejoin:round; stroke-width:4; stroke-opacity:1; fill:none\" points=\"1506.44,892.538 1506.44,892.666 1506.46,893.05 1506.49,893.69 1506.53,894.587 1506.58,895.743 1506.64,897.158 1506.71,898.836 1506.79,900.777 1506.88,902.986 1506.98,905.464 1507.09,908.215 1507.21,911.242 1507.34,914.55 1507.48,918.142 1507.62,922.024 1507.77,926.199 1507.92,930.673 1508.08,935.45 1508.23,940.537 1508.39,945.938 1508.55,951.66 1508.71,957.706 1508.87,964.084 1509.02,970.798 1509.16,977.853 1509.3,985.255 1509.42,993.008 1509.54,1001.12 1509.65,1009.58 1509.74,1018.41 1509.81,1027.6 1509.88,1037.16 1509.93,1047.08 1509.96,1057.37 1509.98,1068.02 1509.99,1079.03 1509.99,1090.39 1509.98,1102.1 1509.97,1114.15 1509.95,1126.52 1509.94,1139.21 1509.93,1152.19 1509.93,1165.45 1509.95,1178.95 1510,1192.66 1510.07,1206.53 1510.18,1220.53 1510.34,1234.59 1510.53,1248.62 1510.78,1262.52 1511.07,1276.17 1511.38,1289.39 1511.69,1301.96 1511.94,1313.6 1512.04,1323.95 1511.83,1332.55 1511.09,1338.91 1509.55,1342.62 1506.9,1343.41 1502.95,1341.38 1497.63,1336.87 1491.02,1330.4 1483.25,1322.46 1474.52,1313.5 1464.98,1303.84 1454.8,1293.75 1444.08,1283.4 1432.95,1272.95 1421.48,1262.5 1409.74,1252.13 1397.81,1241.9 1385.72,1231.86 1373.52,1222.04 1361.25,1212.49 1348.92,1203.21 1336.58,1194.24 1324.23,1185.58 1311.88,1177.24 1299.55,1169.24 1287.24,1161.57 1274.96,1154.25 1262.7,1147.26 1250.45,1140.61 1238.22,1134.28 1225.99,1128.28 1213.75,1122.59 1201.49,1117.19 1189.19,1112.08 1176.86,1107.24 1164.47,1102.64 1152.01,1098.27 1139.49,1094.11 1126.88,1090.15 1114.19,1086.35 1101.4,1082.71 1088.53,1079.19 1075.58,1075.8 1062.54,1072.5 1049.41,1069.28 1036.22,1066.14 1022.96,1063.07 1009.65,1060.05 996.298,1057.07 982.909,1054.14 969.497,1051.25 956.076,1048.4 942.655,1045.59 929.248,1042.81 915.865,1040.07 902.518,1037.37 889.22,1034.72 875.982,1032.1 862.817,1029.52 849.738,1026.98 836.759,1024.47 823.898,1021.99 811.172,1019.53 798.603,1017.08 786.217,1014.62 774.047,1012.13 762.13,1009.59 750.518,1006.97 739.273,1004.23 728.474,1001.32 718.223,998.196 708.649,994.789 699.908,991.037 692.192,986.879 685.714,982.266 680.694,977.175 677.329,971.625 675.749,965.683 675.996,959.459 678.012,953.088 681.663,946.706 686.774,940.436 693.155,934.374 700.623,928.594 709.015,923.146 718.19,918.066 728.027,913.375 738.422,909.086 749.29,905.205 760.557,901.734 772.159,898.671 784.041,896.01 796.155,893.746 808.459,891.87 820.915,890.372 833.486,889.243 846.143,888.471 858.856,888.045 871.597,887.952 884.341,888.179 897.063,888.714 909.74,889.544 922.35,890.656 934.873,892.038 947.287,893.677 959.575,895.562 971.718,897.684 983.7,900.034 995.508,902.604 1007.13,905.39 1018.55,908.389 1029.77,911.6 1040.77,915.024 1051.57,918.666 1062.16,922.533 1072.55,926.635 1082.75,930.98 1092.78,935.583 1102.66,940.456 1112.42,945.613 1122.09,951.065 1131.7,956.826 1141.31,962.903 1150.94,969.304 1160.65,976.029 1170.49,983.078 1180.49,990.445 1190.71,998.117 1201.19,1006.08 1211.97,1014.31 1223.09,1022.79 1234.58,1031.49 1246.45,1040.37 1258.74,1049.41 1271.44,1058.58 1284.58,1067.84 1298.14,1077.15 1312.12,1086.5 1326.51,1095.84 1341.3,1105.16 1356.46,1114.43 1371.99,1123.62 1387.84,1132.72 1404.01,1141.71 1420.47,1150.56 1437.19,1159.26 1454.15,1167.78 1471.32,1176.11 1488.69,1184.2 1506.21,1192.04 1523.87,1199.57 1541.63,1206.74 1559.45,1213.48 1577.3,1219.71 1595.1,1225.3 1612.79,1230.1 1630.22,1233.91 1647.25,1236.47 1663.62,1237.45 1678.98,1236.48 1692.86,1233.13 1704.73,1227.12 1714.12,1218.37 1720.76,1207.12 1724.67,1193.87 1726.12,1179.18 1725.43,1163.55 1722.95,1147.36 1718.99,1130.91 1713.79,1114.38 1707.54,1097.91 1700.41,1081.61 1692.52,1065.54 1683.97,1049.75 1674.85,1034.28 1665.23,1019.16 1655.16,1004.4 1644.69,990.028 1633.88,976.046 1622.75,962.464 1611.35,949.288 1599.7,936.519 1587.82,924.16 1575.75,912.21 1563.5,900.669 1551.1,889.532 1538.57,878.797 1525.92,868.458 1513.18,858.509 1500.35,848.943 1487.46,839.751 1474.52,830.925 1461.54,822.455 1448.53,814.329 1435.51,806.537 1422.49,799.066 1409.48,791.905 1396.49,785.04 1383.51,778.461 1370.57,772.155 1357.66,766.112 1344.79,760.322 1331.96,754.777 1319.17,749.47 1306.41,744.398 1293.7,739.558 1281.01,734.949 1268.36,730.575 1255.73,726.438 1243.13,722.546 1230.54,718.906 1217.96,715.527 1205.4,712.421 1192.84,709.599 1180.28,707.074 1167.73,704.857 1155.17,702.964 1142.62,701.405 1130.06,700.195 1117.5,699.346 1104.95,698.87 1092.4,698.778 1079.86,699.081 1067.34,699.79 1054.83,700.915 1042.34,702.465 1029.88,704.449 1017.46,706.874 1005.08,709.748 992.752,713.079 980.481,716.873 968.277,721.136 956.15,725.873 944.111,731.091 932.169,736.792 920.337,742.982 908.626,749.666 897.051,756.845 885.625,764.523 874.363,772.704 863.282,781.389 852.4,790.579 841.735,800.277 831.308,810.482 821.143,821.195 811.265,832.414 801.7,844.138 792.482,856.365 783.643,869.088 775.224,882.303 767.27,896 759.831,910.169 752.967,924.795 746.746,939.856 741.25,955.326 736.573,971.168 732.827,987.334 730.144,1003.76 728.677,1020.35 728.601,1037 730.106,1053.54 733.385,1069.8 738.605,1085.54 745.872,1100.52 755.198,1114.53 766.48,1127.41 779.516,1139.08 794.05,1149.55 809.812,1158.87 826.554,1167.17 844.064,1174.54 862.168,1181.11 880.727,1186.98 899.63,1192.23 918.788,1196.94 938.13,1201.19 957.596,1205.01 977.137,1208.47 996.711,1211.6 1016.28,1214.45 1035.82,1217.05 1055.3,1219.43 1074.69,1221.62 1093.98,1223.67 1113.15,1225.59 1132.18,1227.42 1151.07,1229.19 1169.81,1230.92 1188.4,1232.65 1206.82,1234.4 1225.09,1236.19 1243.2,1238.06 1261.16,1240.03 1278.96,1242.11 1296.62,1244.33 1314.14,1246.7 1331.51,1249.22 1348.75,1251.92 1365.84,1254.79 1382.79,1257.83 1399.59,1261.04 1416.22,1264.41 1432.66,1267.93 1448.89,1271.57 1464.88,1275.31 1480.59,1279.11 1495.96,1282.91 1510.93,1286.65 1525.43,1290.25 1539.37,1293.59 1552.63,1296.53 1565.09,1298.91 1576.62,1300.5 1587.08,1301.06 1596.36,1300.32 1604.41,1298.05 1611.24,1294.11 1616.94,1288.47 1621.69,1281.24 1625.67,1272.61 1629.05,1262.83 1631.98,1252.15 1634.58,1240.79 1636.94,1228.94 1639.11,1216.76 1641.15,1204.37 1643.1,1191.87 1644.97,1179.34 1646.78,1166.86 1648.55,1154.48 1650.29,1142.23 1652,1130.15 1653.69,1118.28 1655.36,1106.62 1657.03,1095.21 1658.68,1084.05 1660.32,1073.16 1661.96,1062.55 1663.58,1052.22 1665.21,1042.18 1666.83,1032.43 1668.44,1022.98 1670.05,1013.83 1671.66,1004.98 1673.26,996.427 1674.86,988.18 1676.45,980.235 1678.05,972.593 1679.63,965.254 1681.21,958.217 1682.79,951.482 1684.36,945.048 1685.93,938.917 1687.49,933.087 1689.05,927.559 1690.59,922.333 1692.14,917.41 1693.68,912.789 1695.21,908.471 1696.73,904.456 1698.25,900.747 1699.77,897.342 1701.28,894.244 1702.78,891.452 1704.28,888.968 1705.77,886.794 1707.26,884.929 1708.75,883.375 1710.23,882.133 1711.71,881.205 1713.18,880.59 1714.66,880.29 1716.13,880.307 1717.6,880.64 1719.08,881.291 1720.55,882.261 1722.02,883.55 1723.49,885.159 1724.96,887.088 1726.43,889.339 1727.91,891.912 1729.38,894.806 1730.86,898.022 1732.34,901.561 1733.82,905.422 1735.3,909.606 1736.78,914.111 1738.27,918.937 1739.75,924.084 1741.24,929.551 1742.72,935.336 1744.2,941.437 1745.68,947.854 1747.16,954.583 1748.63,961.621 1750.1,968.964 1751.55,976.609 1753,984.55 1754.42,992.78 1755.83,1001.29 1757.22,1010.08 1758.57,1019.12 1759.89,1028.42 1761.16,1037.94 1762.37,1047.69 1763.51,1057.62 1764.56,1067.71 1765.51,1077.94 1766.31,1088.26 1766.95,1098.62 1767.38,1108.97 1767.55,1119.24 1767.39,1129.34 1766.82,1139.19 1765.73,1148.67 1764.01,1157.67 1761.51,1166.05 1758.09,1173.72 1753.6,1180.57 1747.92,1186.57 1740.99,1191.73 1732.8,1196.1 1723.39,1199.81 1712.85,1202.96 1701.28,1205.7 1688.81,1208.13 1675.56,1210.36 1661.61,1212.48 1647.08,1214.55 1632.02,1216.63 1616.52,1218.76 1600.62,1220.98 1584.37,1223.32 1567.79,1225.79 1550.93,1228.4 1533.81,1231.17 1516.42,1234.1 1498.79,1237.19 1480.92,1240.44 1462.81,1243.84 1444.46,1247.37 1425.86,1251.03 1407.01,1254.8 1387.9,1258.66 1368.53,1262.57 \"/>\n",
       "</svg>\n"
      ]
     },
     "metadata": {},
     "output_type": "display_data"
    }
   ],
   "source": [
    "plot(x2, y2,\n",
    "    legend = false,\n",
    "    grid = true,\n",
    "    gridlinewidth = 2,\n",
    "    aspect_ratio = :equal;\n",
    "    xaxis = \"x2\",\n",
    "    yaxis = \"y2\",\n",
    "    xlims = (-2.0, 2.0),\n",
    "    ylims = (-2.0, 2.0),\n",
    "    widen = true,\n",
    ")"
   ]
  },
  {
   "cell_type": "code",
   "execution_count": null,
   "metadata": {},
   "outputs": [],
   "source": [
    "ts = [i for i in t]\n",
    "ani = @animate for i in eachindex(x2)\n",
    "\n",
    "    x = [0, x1[i], x2[i]]\n",
    "    y = [0, y1[i], y2[i]]\n",
    "\n",
    "    plot(x, y, aspect_ratio=1.0, legend = false)\n",
    "    plot!(xlims = (-L, L), xticks = -L:0.5:L)\n",
    "    plot!(ylims = (-L, 1), yticks = -L:0.5:1)\n",
    "    scatter!(x, y, color = :red)\n",
    "\n",
    "    x = x2[1:i]\n",
    "    y = y2[1:i]\n",
    "\n",
    "    plot!(x, y, linecolor = :orange)\n",
    "    plot!(xlims = (-L, L), xticks = -L:0.5:L)\n",
    "    plot!(ylims = (-L, 1), yticks = -L:0.5:1)\n",
    "    scatter!(x, y, \n",
    "        color = :orange,\n",
    "        markersize = 2,\n",
    "        markerstrokewidth = 0,\n",
    "        markerstrokecolor = :orange,\n",
    "    )\n",
    "    annotate!(-1.25, 0.5, \"time= $(@sprintf(\"%.1f\", round(ts[i]; digits=2))) s\")\n",
    "end every 10"
   ]
  },
  {
   "cell_type": "code",
   "execution_count": null,
   "metadata": {},
   "outputs": [],
   "source": [
    "gif(ani, \"ani_julia.mp4\", fps = 10)"
   ]
  },
  {
   "cell_type": "markdown",
   "metadata": {},
   "source": [
    "{{< video https://www.youtube.com/watch?v=_-l5OeNBME4 >}}"
   ]
  },
  {
   "cell_type": "code",
   "execution_count": null,
   "metadata": {},
   "outputs": [],
   "source": []
  }
 ],
 "metadata": {
  "kernelspec": {
   "display_name": "julia-1.10",
   "language": "julia",
   "name": "julia-1.10"
  }
 },
 "nbformat": 4,
 "nbformat_minor": 2
}
