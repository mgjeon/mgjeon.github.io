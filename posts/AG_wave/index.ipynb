{
 "cells": [
  {
   "cell_type": "raw",
   "metadata": {},
   "source": [
    "---\n",
    "title: \"Finding the Dispersion Relation of Acoustic-Gravity Waves Using SymPy\"\n",
    "author: \"Mingyu Jeon\"\n",
    "date: \"2025-2-22\"\n",
    "categories: [physics, python, english]\n",
    "image: \"thumbnail.png\"\n",
    "---"
   ]
  },
  {
   "cell_type": "markdown",
   "metadata": {},
   "source": [
    "This post is based on content from the \"Topics in Magnetohydrodynamics\" lecture in 2023 by Professor [Tetsuya Magara](http://solardynamicslab.khu.ac.kr/~magara/) at Kyung Hee University."
   ]
  },
  {
   "cell_type": "markdown",
   "metadata": {},
   "source": [
    "# Obtaining the dispersion relation"
   ]
  },
  {
   "cell_type": "markdown",
   "metadata": {},
   "source": [
    "First, import SymPy and define the necessary symbols."
   ]
  },
  {
   "cell_type": "code",
   "execution_count": null,
   "metadata": {},
   "outputs": [],
   "source": [
    "from sympy import *"
   ]
  },
  {
   "cell_type": "code",
   "execution_count": null,
   "metadata": {},
   "outputs": [],
   "source": [
    "rho, p, vx, vz = symbols(r'\\rho_1^{**} p_1^{**} v_{1x}^{**} v_{1z}^{**}')\n",
    "w, H, gamma = symbols(r'\\omega H \\gamma')\n",
    "rho0, p0, g0, cs0 = symbols(r'\\rho_0 p_0, g_0, c_{s0}')\n",
    "kx, kz = symbols(r'k_x k_z')"
   ]
  },
  {
   "cell_type": "markdown",
   "metadata": {},
   "source": [
    "To obtain the dispersion relation for acoustic-gravity waves, we need to compute the determinant of the following matrix:"
   ]
  },
  {
   "cell_type": "code",
   "execution_count": null,
   "metadata": {},
   "outputs": [],
   "source": [
    "A = Matrix([[-I*w, I*kx*rho0, (I*kz-1/(2*H))*rho0, 0],\n",
    "            [0, -I*w*rho0, 0, I*kx],\n",
    "            [g0, 0, -I*w*rho0, I*kz-1/(2*H)],\n",
    "            [I*w*(cs0**2), 0, ((gamma-1)/H)*p0, -I*w]])"
   ]
  },
  {
   "cell_type": "code",
   "execution_count": null,
   "metadata": {},
   "outputs": [
    {
     "data": {
      "text/latex": [
       "$\\displaystyle \\left[\\begin{matrix}- i \\omega & i \\rho_{0} k_{x} & \\rho_{0} \\left(i k_{z} - \\frac{1}{2 H}\\right) & 0\\\\0 & - i \\omega \\rho_{0} & 0 & i k_{x}\\\\g_{0} & 0 & - i \\omega \\rho_{0} & i k_{z} - \\frac{1}{2 H}\\\\i \\omega c_{s0}^{2} & 0 & \\frac{p_{0} \\left(\\gamma - 1\\right)}{H} & - i \\omega\\end{matrix}\\right]$"
      ],
      "text/plain": [
       "Matrix([\n",
       "[         -I*\\omega,     I*\\rho_0*k_x, \\rho_0*(I*k_z - 1/(2*H)),               0],\n",
       "[                 0, -I*\\omega*\\rho_0,                        0,           I*k_x],\n",
       "[               g_0,                0,         -I*\\omega*\\rho_0, I*k_z - 1/(2*H)],\n",
       "[I*\\omega*c_{s0}**2,                0,       p_0*(\\gamma - 1)/H,       -I*\\omega]])"
      ]
     },
     "execution_count": null,
     "metadata": {},
     "output_type": "execute_result"
    }
   ],
   "source": [
    "A"
   ]
  },
  {
   "cell_type": "markdown",
   "metadata": {},
   "source": [
    "We can easily calculate the determinant using SymPy. However, the resulting expression is too complex, so we need to simplify it."
   ]
  },
  {
   "cell_type": "code",
   "execution_count": null,
   "metadata": {},
   "outputs": [
    {
     "data": {
      "text/latex": [
       "$\\displaystyle \\frac{4 H^{2} \\omega^{4} \\rho_{0}^{2} - 4 H^{2} \\omega^{2} \\rho_{0}^{2} c_{s0}^{2} k_{x}^{2} - 4 H^{2} \\omega^{2} \\rho_{0}^{2} c_{s0}^{2} k_{z}^{2} + 4 i H^{2} \\omega^{2} \\rho_{0}^{2} g_{0} k_{z} + 4 i H \\gamma \\omega^{2} \\rho_{0} k_{z} p_{0} + 4 H \\gamma \\rho_{0} g_{0} k_{x}^{2} p_{0} - 4 i H \\omega^{2} \\rho_{0}^{2} c_{s0}^{2} k_{z} - 2 H \\omega^{2} \\rho_{0}^{2} g_{0} - 4 i H \\omega^{2} \\rho_{0} k_{z} p_{0} - 4 H \\rho_{0} g_{0} k_{x}^{2} p_{0} - 2 \\gamma \\omega^{2} \\rho_{0} p_{0} + \\omega^{2} \\rho_{0}^{2} c_{s0}^{2} + 2 \\omega^{2} \\rho_{0} p_{0}}{4 H^{2}}$"
      ],
      "text/plain": [
       "(4*H**2*\\omega**4*\\rho_0**2 - 4*H**2*\\omega**2*\\rho_0**2*c_{s0}**2*k_x**2 - 4*H**2*\\omega**2*\\rho_0**2*c_{s0}**2*k_z**2 + 4*I*H**2*\\omega**2*\\rho_0**2*g_0*k_z + 4*I*H*\\gamma*\\omega**2*\\rho_0*k_z*p_0 + 4*H*\\gamma*\\rho_0*g_0*k_x**2*p_0 - 4*I*H*\\omega**2*\\rho_0**2*c_{s0}**2*k_z - 2*H*\\omega**2*\\rho_0**2*g_0 - 4*I*H*\\omega**2*\\rho_0*k_z*p_0 - 4*H*\\rho_0*g_0*k_x**2*p_0 - 2*\\gamma*\\omega**2*\\rho_0*p_0 + \\omega**2*\\rho_0**2*c_{s0}**2 + 2*\\omega**2*\\rho_0*p_0)/(4*H**2)"
      ]
     },
     "execution_count": null,
     "metadata": {},
     "output_type": "execute_result"
    }
   ],
   "source": [
    "detA = A.det()\n",
    "detA"
   ]
  },
  {
   "cell_type": "markdown",
   "metadata": {},
   "source": [
    "As a first step, we substitute the relations for the sound speed $c_{s0}$ and the scale height $H$:\n",
    "\n",
    "$$\n",
    "c_{s0}^2 = \\gamma \\frac{p_0}{\\rho_0} = \\gamma g_0 H\n",
    "$$\n",
    "\n",
    "$$\n",
    "H = \\frac{p_0}{\\rho_0 g_0}\n",
    "$$"
   ]
  },
  {
   "cell_type": "code",
   "execution_count": null,
   "metadata": {},
   "outputs": [
    {
     "data": {
      "text/latex": [
       "$\\displaystyle \\frac{\\rho_{0}^{2} g_{0}^{2} \\left(- \\gamma \\omega^{2} \\rho_{0} p_{0} - \\frac{4 \\gamma \\omega^{2} k_{x}^{2} p_{0}^{3}}{\\rho_{0} g_{0}^{2}} - \\frac{4 \\gamma \\omega^{2} k_{z}^{2} p_{0}^{3}}{\\rho_{0} g_{0}^{2}} + 4 \\gamma k_{x}^{2} p_{0}^{2} + \\frac{4 \\omega^{4} p_{0}^{2}}{g_{0}^{2}} - 4 k_{x}^{2} p_{0}^{2}\\right)}{4 p_{0}^{2}}$"
      ],
      "text/plain": [
       "\\rho_0**2*g_0**2*(-\\gamma*\\omega**2*\\rho_0*p_0 - 4*\\gamma*\\omega**2*k_x**2*p_0**3/(\\rho_0*g_0**2) - 4*\\gamma*\\omega**2*k_z**2*p_0**3/(\\rho_0*g_0**2) + 4*\\gamma*k_x**2*p_0**2 + 4*\\omega**4*p_0**2/g_0**2 - 4*k_x**2*p_0**2)/(4*p_0**2)"
      ]
     },
     "execution_count": null,
     "metadata": {},
     "output_type": "execute_result"
    }
   ],
   "source": [
    "detA_subs = detA.subs(cs0**2, gamma*p0/rho0).subs(H, p0/(rho0*g0))\n",
    "detA_subs"
   ]
  },
  {
   "cell_type": "markdown",
   "metadata": {},
   "source": [
    "Next, we factor out $\\omega$ from this equation "
   ]
  },
  {
   "cell_type": "code",
   "execution_count": null,
   "metadata": {},
   "outputs": [
    {
     "data": {
      "text/latex": [
       "$\\displaystyle - \\frac{\\gamma \\omega^{2} \\rho_{0} \\left(\\rho_{0}^{2} g_{0}^{2} + 4 k_{x}^{2} p_{0}^{2} + 4 k_{z}^{2} p_{0}^{2}\\right)}{4 p_{0}} + \\omega^{4} \\rho_{0}^{2} + \\rho_{0}^{2} g_{0}^{2} k_{x}^{2} \\left(\\gamma - 1\\right)$"
      ],
      "text/plain": [
       "-\\gamma*\\omega**2*\\rho_0*(\\rho_0**2*g_0**2 + 4*k_x**2*p_0**2 + 4*k_z**2*p_0**2)/(4*p_0) + \\omega**4*\\rho_0**2 + \\rho_0**2*g_0**2*k_x**2*(\\gamma - 1)"
      ]
     },
     "execution_count": null,
     "metadata": {},
     "output_type": "execute_result"
    }
   ],
   "source": [
    "detA_collect = collect(expand(detA_subs), w, factor)\n",
    "detA_collect"
   ]
  },
  {
   "cell_type": "markdown",
   "metadata": {},
   "source": [
    "and divide by $\\rho_0^2$."
   ]
  },
  {
   "cell_type": "code",
   "execution_count": null,
   "metadata": {},
   "outputs": [
    {
     "data": {
      "text/latex": [
       "$\\displaystyle - \\frac{\\gamma \\omega^{2} \\left(\\rho_{0}^{2} g_{0}^{2} + 4 k_{x}^{2} p_{0}^{2} + 4 k_{z}^{2} p_{0}^{2}\\right)}{4 \\rho_{0} p_{0}} + \\omega^{4} + g_{0}^{2} k_{x}^{2} \\left(\\gamma - 1\\right)$"
      ],
      "text/plain": [
       "-\\gamma*\\omega**2*(\\rho_0**2*g_0**2 + 4*k_x**2*p_0**2 + 4*k_z**2*p_0**2)/(4*\\rho_0*p_0) + \\omega**4 + g_0**2*k_x**2*(\\gamma - 1)"
      ]
     },
     "execution_count": null,
     "metadata": {},
     "output_type": "execute_result"
    }
   ],
   "source": [
    "rho02 = (rho0**2)\n",
    "detA_collect_ = collect(expand((detA_collect/rho02).cancel()), w, factor)\n",
    "detA_collect_"
   ]
  },
  {
   "cell_type": "markdown",
   "metadata": {},
   "source": [
    "Now, we examine the key coefficients:"
   ]
  },
  {
   "cell_type": "markdown",
   "metadata": {},
   "source": [
    "- Constant term"
   ]
  },
  {
   "cell_type": "code",
   "execution_count": null,
   "metadata": {},
   "outputs": [
    {
     "data": {
      "text/latex": [
       "$\\displaystyle g_{0}^{2} k_{x}^{2} \\left(\\gamma - 1\\right)$"
      ],
      "text/plain": [
       "g_0**2*k_x**2*(\\gamma - 1)"
      ]
     },
     "execution_count": null,
     "metadata": {},
     "output_type": "execute_result"
    }
   ],
   "source": [
    "wc0 = detA_collect_.coeff(w, 0)\n",
    "wc0"
   ]
  },
  {
   "cell_type": "markdown",
   "metadata": {},
   "source": [
    "- Coefficient of $\\omega^4$"
   ]
  },
  {
   "cell_type": "code",
   "execution_count": null,
   "metadata": {},
   "outputs": [
    {
     "data": {
      "text/latex": [
       "$\\displaystyle 1$"
      ],
      "text/plain": [
       "1"
      ]
     },
     "execution_count": null,
     "metadata": {},
     "output_type": "execute_result"
    }
   ],
   "source": [
    "wc4 = detA_collect_.coeff(w, 4)\n",
    "wc4"
   ]
  },
  {
   "cell_type": "markdown",
   "metadata": {},
   "source": [
    "- Coefficient of $\\omega^2$"
   ]
  },
  {
   "cell_type": "code",
   "execution_count": null,
   "metadata": {},
   "outputs": [
    {
     "data": {
      "text/latex": [
       "$\\displaystyle - \\frac{\\gamma \\left(\\rho_{0}^{2} g_{0}^{2} + 4 k_{x}^{2} p_{0}^{2} + 4 k_{z}^{2} p_{0}^{2}\\right)}{4 \\rho_{0} p_{0}}$"
      ],
      "text/plain": [
       "-\\gamma*(\\rho_0**2*g_0**2 + 4*k_x**2*p_0**2 + 4*k_z**2*p_0**2)/(4*\\rho_0*p_0)"
      ]
     },
     "execution_count": null,
     "metadata": {},
     "output_type": "execute_result"
    }
   ],
   "source": [
    "wc2_ = detA_collect_.coeff(w, 2)\n",
    "wc2_"
   ]
  },
  {
   "cell_type": "markdown",
   "metadata": {},
   "source": [
    "We substitute $p_0 = \\rho_0 c_{s0}^2$ for the coefficient of $\\omega^2$,"
   ]
  },
  {
   "cell_type": "code",
   "execution_count": null,
   "metadata": {},
   "outputs": [
    {
     "data": {
      "text/latex": [
       "$\\displaystyle \\frac{- \\gamma^{2} g_{0}^{2} - 4 c_{s0}^{4} k_{x}^{2} - 4 c_{s0}^{4} k_{z}^{2}}{4 c_{s0}^{2}}$"
      ],
      "text/plain": [
       "(-\\gamma**2*g_0**2 - 4*c_{s0}**4*k_x**2 - 4*c_{s0}**4*k_z**2)/(4*c_{s0}**2)"
      ]
     },
     "execution_count": null,
     "metadata": {},
     "output_type": "execute_result"
    }
   ],
   "source": [
    "wc2_subs = wc2_.subs(p0, (rho0*cs0**2)/gamma).cancel()\n",
    "wc2_subs"
   ]
  },
  {
   "cell_type": "markdown",
   "metadata": {},
   "source": [
    "factor out $c_{s0}^2$,"
   ]
  },
  {
   "cell_type": "code",
   "execution_count": null,
   "metadata": {},
   "outputs": [
    {
     "data": {
      "text/latex": [
       "$\\displaystyle - \\frac{\\gamma^{2} g_{0}^{2}}{4 c_{s0}^{2}} + c_{s0}^{2} \\left(- k_{x}^{2} - k_{z}^{2}\\right)$"
      ],
      "text/plain": [
       "-\\gamma**2*g_0**2/(4*c_{s0}**2) + c_{s0}**2*(-k_x**2 - k_z**2)"
      ]
     },
     "execution_count": null,
     "metadata": {},
     "output_type": "execute_result"
    }
   ],
   "source": [
    "wc2 = collect(expand(wc2_subs), cs0**2, factor)\n",
    "wc2     "
   ]
  },
  {
   "cell_type": "markdown",
   "metadata": {},
   "source": [
    "and multiply by $-1$."
   ]
  },
  {
   "cell_type": "code",
   "execution_count": null,
   "metadata": {},
   "outputs": [
    {
     "data": {
      "text/latex": [
       "$\\displaystyle \\frac{\\gamma^{2} g_{0}^{2}}{4 c_{s0}^{2}} + c_{s0}^{2} \\left(k_{x}^{2} + k_{z}^{2}\\right)$"
      ],
      "text/plain": [
       "\\gamma**2*g_0**2/(4*c_{s0}**2) + c_{s0}**2*(k_x**2 + k_z**2)"
      ]
     },
     "execution_count": null,
     "metadata": {},
     "output_type": "execute_result"
    }
   ],
   "source": [
    "_wc2 = collect(expand((-wc2).cancel()), cs0**2, factor)\n",
    "_wc2"
   ]
  },
  {
   "cell_type": "markdown",
   "metadata": {},
   "source": [
    "Using the above coefficients, we rewrite the determinant of the matrix."
   ]
  },
  {
   "cell_type": "code",
   "execution_count": null,
   "metadata": {},
   "outputs": [
    {
     "data": {
      "text/latex": [
       "$\\displaystyle \\rho_{0}^{2} \\left(\\omega^{4} - \\omega^{2} \\left(\\frac{\\gamma^{2} g_{0}^{2}}{4 c_{s0}^{2}} + c_{s0}^{2} \\left(k_{x}^{2} + k_{z}^{2}\\right)\\right) + g_{0}^{2} k_{x}^{2} \\left(\\gamma - 1\\right)\\right)$"
      ],
      "text/plain": [
       "\\rho_0**2*(\\omega**4 - \\omega**2*(\\gamma**2*g_0**2/(4*c_{s0}**2) + c_{s0}**2*(k_x**2 + k_z**2)) + g_0**2*k_x**2*(\\gamma - 1))"
      ]
     },
     "execution_count": null,
     "metadata": {},
     "output_type": "execute_result"
    }
   ],
   "source": [
    "expr = Mul(rho02, Add(Mul(wc4, Pow(w, 4)), Mul(Integer(-1), Mul(_wc2, Pow(w, 2))), wc0))\n",
    "expr"
   ]
  },
  {
   "cell_type": "markdown",
   "metadata": {},
   "source": [
    "Since the dispersion relation is given by $\\text{det}A = 0$, we can divide by $\\rho_0^2$ for it."
   ]
  },
  {
   "cell_type": "code",
   "execution_count": null,
   "metadata": {},
   "outputs": [
    {
     "data": {
      "text/latex": [
       "$\\displaystyle \\omega^{4} - \\omega^{2} \\left(\\frac{\\gamma^{2} g_{0}^{2}}{4 c_{s0}^{2}} + c_{s0}^{2} \\left(k_{x}^{2} + k_{z}^{2}\\right)\\right) + g_{0}^{2} k_{x}^{2} \\left(\\gamma - 1\\right)$"
      ],
      "text/plain": [
       "\\omega**4 - \\omega**2*(\\gamma**2*g_0**2/(4*c_{s0}**2) + c_{s0}**2*(k_x**2 + k_z**2)) + g_0**2*k_x**2*(\\gamma - 1)"
      ]
     },
     "execution_count": null,
     "metadata": {},
     "output_type": "execute_result"
    }
   ],
   "source": [
    "dispersion = Add(Mul(wc4, Pow(w, 4)), Mul(Integer(-1), Mul(_wc2, Pow(w, 2))), wc0)\n",
    "dispersion"
   ]
  },
  {
   "cell_type": "markdown",
   "metadata": {},
   "source": [
    "This is the dispersion relation of acoustic-gravity waves."
   ]
  },
  {
   "cell_type": "code",
   "execution_count": null,
   "metadata": {},
   "outputs": [
    {
     "data": {
      "text/latex": [
       "$\\displaystyle \\omega^{4} - \\omega^{2} \\left(\\frac{\\gamma^{2} g_{0}^{2}}{4 c_{s0}^{2}} + c_{s0}^{2} \\left(k_{x}^{2} + k_{z}^{2}\\right)\\right) + g_{0}^{2} k_{x}^{2} \\left(\\gamma - 1\\right) = 0$"
      ],
      "text/plain": [
       "Eq(\\omega**4 - \\omega**2*(\\gamma**2*g_0**2/(4*c_{s0}**2) + c_{s0}**2*(k_x**2 + k_z**2)) + g_0**2*k_x**2*(\\gamma - 1), 0)"
      ]
     },
     "execution_count": null,
     "metadata": {},
     "output_type": "execute_result"
    }
   ],
   "source": [
    "Eq(dispersion, 0)"
   ]
  },
  {
   "cell_type": "markdown",
   "metadata": {},
   "source": [
    "Here, we define two key frequencies of acoustic-gravity waves:\n",
    "\n",
    "- acoustic cut-off frequency\n",
    "$$\n",
    "\\omega_a = \\frac{\\gamma g_0}{2 c_{s0}} = \\frac{c_{s0}}{2H}\n",
    "$$\n",
    "\n",
    "- Brunt–Väisälä frequency\n",
    "$$\n",
    "\\omega_g = \\frac{\\sqrt{\\gamma-1}g_0}{c_{s0}} = \\frac{\\sqrt{\\gamma-1}}{\\gamma}\\frac{c_{s0}}{H}\n",
    "$$"
   ]
  },
  {
   "cell_type": "markdown",
   "metadata": {},
   "source": [
    "Define symbols for the key frequencies."
   ]
  },
  {
   "cell_type": "code",
   "execution_count": null,
   "metadata": {},
   "outputs": [],
   "source": [
    "wa, wg = symbols(r'\\omega_a, \\omega_g')"
   ]
  },
  {
   "cell_type": "markdown",
   "metadata": {},
   "source": [
    "Now, we substitute $g_0 = \\frac{2\\omega_a c_{s0}}{\\gamma}$ into the coefficient of $\\omega^2$,"
   ]
  },
  {
   "cell_type": "code",
   "execution_count": null,
   "metadata": {},
   "outputs": [
    {
     "data": {
      "text/latex": [
       "$\\displaystyle - \\omega_{a}^{2} - c_{s0}^{2} k_{x}^{2} - c_{s0}^{2} k_{z}^{2}$"
      ],
      "text/plain": [
       "-\\omega_a**2 - c_{s0}**2*k_x**2 - c_{s0}**2*k_z**2"
      ]
     },
     "execution_count": null,
     "metadata": {},
     "output_type": "execute_result"
    }
   ],
   "source": [
    "dis_w2 = dispersion.coeff(w, 2).subs(g0, 2*wa*cs0/gamma).cancel()\n",
    "dis_w2"
   ]
  },
  {
   "cell_type": "markdown",
   "metadata": {},
   "source": [
    "multiply by $-1$, and factor out $c_{s0}^2$."
   ]
  },
  {
   "cell_type": "code",
   "execution_count": null,
   "metadata": {},
   "outputs": [
    {
     "data": {
      "text/latex": [
       "$\\displaystyle \\omega_{a}^{2} + c_{s0}^{2} \\left(k_{x}^{2} + k_{z}^{2}\\right)$"
      ],
      "text/plain": [
       "\\omega_a**2 + c_{s0}**2*(k_x**2 + k_z**2)"
      ]
     },
     "execution_count": null,
     "metadata": {},
     "output_type": "execute_result"
    }
   ],
   "source": [
    "_dis_w2 = collect(expand((-dis_w2).cancel()), cs0**2, factor)\n",
    "_dis_w2"
   ]
  },
  {
   "cell_type": "markdown",
   "metadata": {},
   "source": [
    "Next, we substitut $g_0 = \\frac{\\omega_g c_{s0}}{\\sqrt{\\gamma-1}}$ into the constant term."
   ]
  },
  {
   "cell_type": "code",
   "execution_count": null,
   "metadata": {},
   "outputs": [
    {
     "data": {
      "text/latex": [
       "$\\displaystyle \\omega_{g}^{2} c_{s0}^{2} k_{x}^{2}$"
      ],
      "text/plain": [
       "\\omega_g**2*c_{s0}**2*k_x**2"
      ]
     },
     "execution_count": null,
     "metadata": {},
     "output_type": "execute_result"
    }
   ],
   "source": [
    "dis_w0 = dispersion.coeff(w, 0).subs(g0, wg*cs0/sqrt(gamma-1)).cancel()\n",
    "dis_w0"
   ]
  },
  {
   "cell_type": "markdown",
   "metadata": {},
   "source": [
    "Finally, we obtain the dispersion relation for acoustic-gravity waves."
   ]
  },
  {
   "cell_type": "code",
   "execution_count": null,
   "metadata": {},
   "outputs": [
    {
     "data": {
      "text/latex": [
       "$\\displaystyle \\omega^{4} - \\omega^{2} \\left(\\omega_{a}^{2} + c_{s0}^{2} \\left(k_{x}^{2} + k_{z}^{2}\\right)\\right) + \\omega_{g}^{2} c_{s0}^{2} k_{x}^{2}$"
      ],
      "text/plain": [
       "\\omega**4 - \\omega**2*(\\omega_a**2 + c_{s0}**2*(k_x**2 + k_z**2)) + \\omega_g**2*c_{s0}**2*k_x**2"
      ]
     },
     "execution_count": null,
     "metadata": {},
     "output_type": "execute_result"
    }
   ],
   "source": [
    "dispersion_ = Add(Mul(wc4, Pow(w, 4)), Mul(Integer(-1), Mul(_dis_w2, Pow(w, 2))), dis_w0)\n",
    "dispersion_"
   ]
  },
  {
   "cell_type": "markdown",
   "metadata": {},
   "source": [
    "Finally, we get the following dispersion relation for acoustic-gravity waves using $\\omega_a$ and $\\omega_g$."
   ]
  },
  {
   "cell_type": "code",
   "execution_count": null,
   "metadata": {},
   "outputs": [
    {
     "data": {
      "text/latex": [
       "$\\displaystyle \\omega^{4} - \\omega^{2} \\left(\\omega_{a}^{2} + c_{s0}^{2} \\left(k_{x}^{2} + k_{z}^{2}\\right)\\right) + \\omega_{g}^{2} c_{s0}^{2} k_{x}^{2} = 0$"
      ],
      "text/plain": [
       "Eq(\\omega**4 - \\omega**2*(\\omega_a**2 + c_{s0}**2*(k_x**2 + k_z**2)) + \\omega_g**2*c_{s0}**2*k_x**2, 0)"
      ]
     },
     "execution_count": null,
     "metadata": {},
     "output_type": "execute_result"
    }
   ],
   "source": [
    "Eq(dispersion_, 0)"
   ]
  },
  {
   "cell_type": "markdown",
   "metadata": {},
   "source": [
    "# Graph for the dispersion relation"
   ]
  },
  {
   "cell_type": "markdown",
   "metadata": {},
   "source": [
    "We consider $k_x = k\\sin\\theta$ and $k_z = k\\cos\\theta$."
   ]
  },
  {
   "cell_type": "code",
   "execution_count": null,
   "metadata": {},
   "outputs": [],
   "source": [
    "k, theta = symbols(r'k \\theta')\n",
    "kx_sub = k * sin(theta)\n",
    "kz_sub = k * cos(theta)"
   ]
  },
  {
   "cell_type": "markdown",
   "metadata": {},
   "source": [
    "We subsitute the above expressions and factor out $c_{s0}^2k^2$."
   ]
  },
  {
   "cell_type": "code",
   "execution_count": null,
   "metadata": {},
   "outputs": [
    {
     "data": {
      "text/latex": [
       "$\\displaystyle \\omega^{4} - \\omega^{2} \\omega_{a}^{2} + c_{s0}^{2} k^{2} \\left(- \\omega^{2} + \\omega_{g}^{2} \\sin^{2}{\\left(\\theta \\right)}\\right)$"
      ],
      "text/plain": [
       "\\omega**4 - \\omega**2*\\omega_a**2 + c_{s0}**2*k**2*(-\\omega**2 + \\omega_g**2*sin(\\theta)**2)"
      ]
     },
     "execution_count": null,
     "metadata": {},
     "output_type": "execute_result"
    }
   ],
   "source": [
    "dispersion_eq = dispersion_.subs({kx: kx_sub, kz: kz_sub})\n",
    "dispersion_eq = simplify(dispersion_eq)\n",
    "dispersion_eq = collect(expand(dispersion_eq), cs0**2*k**2)\n",
    "dispersion_eq"
   ]
  },
  {
   "cell_type": "markdown",
   "metadata": {},
   "source": [
    "We divide by $\\omega_g^2$."
   ]
  },
  {
   "cell_type": "code",
   "execution_count": null,
   "metadata": {},
   "outputs": [
    {
     "data": {
      "text/latex": [
       "$\\displaystyle \\frac{\\omega^{4}}{\\omega_{g}^{2}} - \\frac{\\omega^{2} \\omega_{a}^{2}}{\\omega_{g}^{2}} + c_{s0}^{2} k^{2} \\left(- \\frac{\\omega^{2}}{\\omega_{g}^{2}} + \\sin^{2}{\\left(\\theta \\right)}\\right)$"
      ],
      "text/plain": [
       "\\omega**4/\\omega_g**2 - \\omega**2*\\omega_a**2/\\omega_g**2 + c_{s0}**2*k**2*(-\\omega**2/\\omega_g**2 + sin(\\theta)**2)"
      ]
     },
     "execution_count": null,
     "metadata": {},
     "output_type": "execute_result"
    }
   ],
   "source": [
    "dispersion_e = dispersion_eq / (wg**2)\n",
    "dispersion_e = collect(expand(dispersion_e), cs0**2*k**2)\n",
    "dispersion_e"
   ]
  },
  {
   "cell_type": "markdown",
   "metadata": {},
   "source": [
    "We examine each term."
   ]
  },
  {
   "cell_type": "markdown",
   "metadata": {},
   "source": [
    "- Constant term"
   ]
  },
  {
   "cell_type": "code",
   "execution_count": null,
   "metadata": {},
   "outputs": [
    {
     "data": {
      "text/latex": [
       "$\\displaystyle \\frac{\\omega^{2} \\left(\\omega - \\omega_{a}\\right) \\left(\\omega + \\omega_{a}\\right)}{\\omega_{g}^{2}}$"
      ],
      "text/plain": [
       "\\omega**2*(\\omega - \\omega_a)*(\\omega + \\omega_a)/\\omega_g**2"
      ]
     },
     "execution_count": null,
     "metadata": {},
     "output_type": "execute_result"
    }
   ],
   "source": [
    "const_t = dispersion_e.coeff(cs0**2*k**2, 0)\n",
    "const_t = collect(expand(const_t), w**2/wg**2, factor)\n",
    "const_t"
   ]
  },
  {
   "cell_type": "code",
   "execution_count": null,
   "metadata": {},
   "outputs": [
    {
     "data": {
      "text/latex": [
       "$\\displaystyle \\frac{\\omega^{2}}{\\omega_{g}^{2}} - \\frac{\\omega_{a}^{2}}{\\omega_{g}^{2}}$"
      ],
      "text/plain": [
       "\\omega**2/\\omega_g**2 - \\omega_a**2/\\omega_g**2"
      ]
     },
     "execution_count": null,
     "metadata": {},
     "output_type": "execute_result"
    }
   ],
   "source": [
    "coeff_const_t = const_t.coeff(w, 2)\n",
    "coeff_const_t = expand(coeff_const_t)\n",
    "coeff_const_t"
   ]
  },
  {
   "cell_type": "code",
   "execution_count": null,
   "metadata": {},
   "outputs": [
    {
     "data": {
      "text/latex": [
       "$\\displaystyle \\omega_{g}^{2} \\frac{\\omega^{2}}{\\omega_{g}^{2}}$"
      ],
      "text/plain": [
       "\\omega_g**2*(\\omega**2/\\omega_g**2)"
      ]
     },
     "execution_count": null,
     "metadata": {},
     "output_type": "execute_result"
    }
   ],
   "source": [
    "a = Mul(wg**2, (w**2 / wg**2), evaluate=False)\n",
    "a"
   ]
  },
  {
   "cell_type": "code",
   "execution_count": null,
   "metadata": {},
   "outputs": [
    {
     "data": {
      "text/latex": [
       "$\\displaystyle \\omega_{g}^{2} \\frac{\\omega^{2}}{\\omega_{g}^{2}} \\left(\\frac{\\omega^{2}}{\\omega_{g}^{2}} - \\frac{\\omega_{a}^{2}}{\\omega_{g}^{2}}\\right)$"
      ],
      "text/plain": [
       "(\\omega_g**2*(\\omega**2/\\omega_g**2))*(\\omega**2/\\omega_g**2 - \\omega_a**2/\\omega_g**2)"
      ]
     },
     "execution_count": null,
     "metadata": {},
     "output_type": "execute_result"
    }
   ],
   "source": [
    "const_t = Mul(a, coeff_const_t, evaluate=False)\n",
    "const_t"
   ]
  },
  {
   "cell_type": "markdown",
   "metadata": {},
   "source": [
    "- Coefficient of $c_{s0}^2k^2$"
   ]
  },
  {
   "cell_type": "code",
   "execution_count": null,
   "metadata": {},
   "outputs": [
    {
     "data": {
      "text/latex": [
       "$\\displaystyle - c_{s0}^{2} k^{2} \\left(\\frac{\\omega^{2}}{\\omega_{g}^{2}} - \\sin^{2}{\\left(\\theta \\right)}\\right)$"
      ],
      "text/plain": [
       "-c_{s0}**2*k**2*(\\omega**2/\\omega_g**2 - sin(\\theta)**2)"
      ]
     },
     "execution_count": null,
     "metadata": {},
     "output_type": "execute_result"
    }
   ],
   "source": [
    "coeff_cs0k2 = dispersion_e.coeff(cs0**2*k**2, 1)\n",
    "coeff_cs0k2 = Mul(Pow(cs0*k, 2), -coeff_cs0k2)\n",
    "coeff_cs0k2 = Mul(Integer(-1), coeff_cs0k2, evaluate=False)\n",
    "coeff_cs0k2"
   ]
  },
  {
   "cell_type": "markdown",
   "metadata": {},
   "source": [
    "Then we obtain the following form."
   ]
  },
  {
   "cell_type": "code",
   "execution_count": null,
   "metadata": {},
   "outputs": [
    {
     "data": {
      "text/latex": [
       "$\\displaystyle - c_{s0}^{2} k^{2} \\left(\\frac{\\omega^{2}}{\\omega_{g}^{2}} - \\sin^{2}{\\left(\\theta \\right)}\\right) + \\omega_{g}^{2} \\frac{\\omega^{2}}{\\omega_{g}^{2}} \\left(\\frac{\\omega^{2}}{\\omega_{g}^{2}} - \\frac{\\omega_{a}^{2}}{\\omega_{g}^{2}}\\right)$"
      ],
      "text/plain": [
       "-c_{s0}**2*k**2*(\\omega**2/\\omega_g**2 - sin(\\theta)**2) + (\\omega_g**2*(\\omega**2/\\omega_g**2))*(\\omega**2/\\omega_g**2 - \\omega_a**2/\\omega_g**2)"
      ]
     },
     "execution_count": null,
     "metadata": {},
     "output_type": "execute_result"
    }
   ],
   "source": [
    "dispersion_eqq = Add(const_t, coeff_cs0k2)\n",
    "dispersion_eqq"
   ]
  },
  {
   "cell_type": "markdown",
   "metadata": {},
   "source": [
    "When we assume that $c_{s0} =1, H=1, \\gamma=5/3$, we can caluate $\\omega_a$ and $\\omega_g$:\n",
    "\n",
    "$$\n",
    "\\omega_a = \\frac{c_{s0}}{2H}\n",
    "$$\n",
    "\n",
    "$$\n",
    "\\omega_g = \\frac{\\sqrt{\\gamma-1}g_0}{c_{s0}}\n",
    "$$"
   ]
  },
  {
   "cell_type": "code",
   "execution_count": null,
   "metadata": {},
   "outputs": [
    {
     "data": {
      "text/latex": [
       "$\\displaystyle \\omega/\\omega_{g}$"
      ],
      "text/plain": [
       "\\omega/\\omega_g"
      ]
     },
     "execution_count": null,
     "metadata": {},
     "output_type": "execute_result"
    }
   ],
   "source": [
    "wr = symbols(r'\\omega/\\omega_g')\n",
    "wr"
   ]
  },
  {
   "cell_type": "code",
   "execution_count": null,
   "metadata": {},
   "outputs": [],
   "source": [
    "import numpy as np\n",
    "\n",
    "cs0n = 1\n",
    "Hn = 1\n",
    "gamman = 5/3\n",
    "\n",
    "wan = (1/2) * (cs0n/Hn)\n",
    "wgn = (np.sqrt(gamman-1)/gamman) * (cs0n/Hn)"
   ]
  },
  {
   "cell_type": "markdown",
   "metadata": {},
   "source": [
    "Then, we obtain an implicit equation for $\\omega/\\omega_g$, $k$, and $\\theta$."
   ]
  },
  {
   "cell_type": "code",
   "execution_count": null,
   "metadata": {},
   "outputs": [
    {
     "data": {
      "text/latex": [
       "$\\displaystyle 0.24 \\omega/\\omega_{g}^{2} \\left(\\omega/\\omega_{g}^{2} - 1.04166666666667\\right) - k^{2} \\left(\\omega/\\omega_{g}^{2} - \\sin^{2}{\\left(\\theta \\right)}\\right) = 0$"
      ],
      "text/plain": [
       "Eq(0.24*\\omega/\\omega_g**2*(\\omega/\\omega_g**2 - 1.04166666666667) - k**2*(\\omega/\\omega_g**2 - sin(\\theta)**2), 0)"
      ]
     },
     "execution_count": null,
     "metadata": {},
     "output_type": "execute_result"
    }
   ],
   "source": [
    "func = Eq(-cs0n**2 * k**2 * (wr**2 - sin(theta)**2) + wgn**2 * wr**2 * (wr**2 - (wan/wgn)**2) , 0)\n",
    "func"
   ]
  },
  {
   "cell_type": "markdown",
   "metadata": {},
   "source": [
    "We consider the case where $\\theta=0$, $\\theta=\\pi/4$, or $\\theta=\\pi/2$."
   ]
  },
  {
   "cell_type": "code",
   "execution_count": null,
   "metadata": {},
   "outputs": [],
   "source": [
    "thetas = [[0, r'$\\theta = 0$'],\n",
    "          [np.pi/4, r'$\\theta = \\pi/4$'],\n",
    "          [np.pi/2, r'$\\theta = \\pi/2$']]"
   ]
  },
  {
   "cell_type": "markdown",
   "metadata": {},
   "source": [
    "For each value of $\\theta$, we can plot the implicit equation in the $k$ - $\\omega/\\omega_g$ plane."
   ]
  },
  {
   "cell_type": "code",
   "execution_count": null,
   "metadata": {},
   "outputs": [
    {
     "data": {
      "image/png": "[encoded data removed]",
      "text/plain": [
       "<Figure size 640x480 with 1 Axes>"
      ]
     },
     "metadata": {},
     "output_type": "display_data"
    },
    {
     "data": {
      "image/png": "[encoded data removed]",
      "text/plain": [
       "<Figure size 640x480 with 1 Axes>"
      ]
     },
     "metadata": {},
     "output_type": "display_data"
    },
    {
     "data": {
      "image/png": "[encoded data removed]",
      "text/plain": [
       "<Figure size 640x480 with 1 Axes>"
      ]
     },
     "metadata": {},
     "output_type": "display_data"
    }
   ],
   "source": [
    "for thet in thetas:\n",
    "    plot_dict = dict(x_var=(k, 0, 3), y_var=(wr, 0, 3),\n",
    "                     aspect_ratio=(5, 5), show=False)\n",
    "\n",
    "    p1 = plot_implicit(func.subs({theta: thet[0]}), \n",
    "                       line_color='red', title= thet[1], **plot_dict)\n",
    "    p2 = plot_implicit(Eq(wr, 1),\n",
    "                       line_color='blue', **plot_dict)\n",
    "    p1.extend(p2)\n",
    "    p1.show()"
   ]
  },
  {
   "cell_type": "markdown",
   "metadata": {},
   "source": [
    "- The mode with $\\omega/\\omega_g > 1$ is pressure-mode (p-mode) mainly driven by gas pressure.\n",
    "- The mode with $\\omega/\\omega_g < 1$ is gravity-mode (g-mode) mainly driven by buoyancy."
   ]
  },
  {
   "cell_type": "code",
   "execution_count": null,
   "metadata": {},
   "outputs": [],
   "source": []
  }
 ],
 "metadata": {
  "kernelspec": {
   "display_name": "python3",
   "language": "python",
   "name": "python3"
  }
 },
 "nbformat": 4,
 "nbformat_minor": 2
}
