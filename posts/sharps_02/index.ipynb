{
 "cells": [
  {
   "cell_type": "raw",
   "id": "4610f1c1",
   "metadata": {},
   "source": [
    "---\n",
    "title: \"SHARP Data Guide (2)\"\n",
    "author: \"Mingyu Jeon\"\n",
    "date: \"2025-08-02\"\n",
    "categories: [solar physics, python, english]\n",
    "bibliography: references.bib\n",
    "csl: the-astronomical-journal.csl\n",
    "draft: true\n",
    "---"
   ]
  },
  {
   "cell_type": "code",
   "execution_count": null,
   "id": "76d6466f",
   "metadata": {},
   "outputs": [],
   "source": [
    "import warnings; warnings.filterwarnings(\"ignore\")"
   ]
  },
  {
   "cell_type": "markdown",
   "id": "91ea23a7",
   "metadata": {},
   "source": [
    "The Solar Dynamics Observatory [SDO, @Pesnell2012] / Helioseismic and Magnetic Imager [HMI, @Schou2012] have produced a wealth of data for the Sun, particularly the magnetic field on the solar surface (photosphere). The Space-Weather HMI Active Region Patches [SHARPs, @Bobra2014] are a set of data products derived from the HMI data, which have been used extensively in solar physics and space weather research. The information for the SHARP data is available on [this JSOC page](http://jsoc.stanford.edu/doc/data/hmi/sharp/sharp.htm).\n",
    "\n",
    "This post focuses on how to calculate the SHARP parameters from the SHARP CEA data based on [this GitHub repository](https://github.com/mbobra/SHARPs)"
   ]
  },
  {
   "cell_type": "code",
   "execution_count": null,
   "id": "a3b081b2",
   "metadata": {},
   "outputs": [],
   "source": []
  }
 ],
 "metadata": {
  "kernelspec": {
   "display_name": "python3",
   "language": "python",
   "name": "python3"
  }
 },
 "nbformat": 4,
 "nbformat_minor": 5
}
